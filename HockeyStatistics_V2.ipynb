{
 "cells": [
  {
   "cell_type": "markdown",
   "metadata": {},
   "source": [
    "## Section 1: Business Understanding\n",
    "My purpose with this project is to answer a few questions as they relate to specific players in hockey. I want to follow the CRISP-DM process to clean, explore, and understand the data, before creating visualizations and answering the questions outlined below."
   ]
  },
  {
   "cell_type": "markdown",
   "metadata": {},
   "source": [
    "### Question 1: How good of a goalie is Carey Price?"
   ]
  },
  {
   "cell_type": "markdown",
   "metadata": {},
   "source": [
    "### Question 2: How does Carey Price compare to other great goalies?"
   ]
  },
  {
   "cell_type": "markdown",
   "metadata": {},
   "source": [
    "### Question 3: Can we predict how many goals a player like Alexander Ovechkin will score?"
   ]
  },
  {
   "cell_type": "code",
   "execution_count": 32,
   "metadata": {
    "id": "ajquHv6gyqig"
   },
   "outputs": [],
   "source": [
    "import pandas as pd\n",
    "import numpy as np\n",
    "import seaborn as sb\n",
    "import matplotlib.pyplot as plt\n",
    "plt.style.use('fivethirtyeight')\n",
    "%matplotlib inline"
   ]
  },
  {
   "cell_type": "markdown",
   "metadata": {},
   "source": [
    "## Section 2 (part 1): Data Understanding"
   ]
  },
  {
   "cell_type": "code",
   "execution_count": 33,
   "metadata": {
    "colab": {
     "base_uri": "https://localhost:8080/"
    },
    "id": "1ikE6CEHyqil",
    "outputId": "12c2d5c5-e116-43ed-a834-62514a5a90bf"
   },
   "outputs": [
    {
     "name": "stdout",
     "output_type": "stream",
     "text": [
      "<class 'pandas.core.frame.DataFrame'>\n",
      "RangeIndex: 3925 entries, 0 to 3924\n",
      "Data columns (total 12 columns):\n",
      " #   Column              Non-Null Count  Dtype  \n",
      "---  ------              --------------  -----  \n",
      " 0   player_id           3925 non-null   int64  \n",
      " 1   firstName           3925 non-null   object \n",
      " 2   lastName            3925 non-null   object \n",
      " 3   nationality         3917 non-null   object \n",
      " 4   birthCity           3920 non-null   object \n",
      " 5   primaryPosition     3925 non-null   object \n",
      " 6   birthDate           3925 non-null   object \n",
      " 7   birthStateProvince  2802 non-null   object \n",
      " 8   height              3922 non-null   object \n",
      " 9   height_cm           3922 non-null   float64\n",
      " 10  weight              3922 non-null   float64\n",
      " 11  shootsCatches       3908 non-null   object \n",
      "dtypes: float64(2), int64(1), object(9)\n",
      "memory usage: 368.1+ KB\n"
     ]
    }
   ],
   "source": [
    "df_players = pd.read_csv('player_info.csv')\n",
    "df_players.info()"
   ]
  },
  {
   "cell_type": "code",
   "execution_count": 34,
   "metadata": {
    "colab": {
     "base_uri": "https://localhost:8080/",
     "height": 135
    },
    "id": "FnlOK4H6yqin",
    "outputId": "ebde91ce-d67b-4da8-9939-19de3137dbab"
   },
   "outputs": [
    {
     "data": {
      "text/html": [
       "<div>\n",
       "<style scoped>\n",
       "    .dataframe tbody tr th:only-of-type {\n",
       "        vertical-align: middle;\n",
       "    }\n",
       "\n",
       "    .dataframe tbody tr th {\n",
       "        vertical-align: top;\n",
       "    }\n",
       "\n",
       "    .dataframe thead th {\n",
       "        text-align: right;\n",
       "    }\n",
       "</style>\n",
       "<table border=\"1\" class=\"dataframe\">\n",
       "  <thead>\n",
       "    <tr style=\"text-align: right;\">\n",
       "      <th></th>\n",
       "      <th>player_id</th>\n",
       "      <th>firstName</th>\n",
       "      <th>lastName</th>\n",
       "      <th>nationality</th>\n",
       "      <th>birthCity</th>\n",
       "      <th>primaryPosition</th>\n",
       "      <th>birthDate</th>\n",
       "      <th>birthStateProvince</th>\n",
       "      <th>height</th>\n",
       "      <th>height_cm</th>\n",
       "      <th>weight</th>\n",
       "      <th>shootsCatches</th>\n",
       "    </tr>\n",
       "  </thead>\n",
       "  <tbody>\n",
       "    <tr>\n",
       "      <th>185</th>\n",
       "      <td>8471679</td>\n",
       "      <td>Carey</td>\n",
       "      <td>Price</td>\n",
       "      <td>CAN</td>\n",
       "      <td>Anahim Lake</td>\n",
       "      <td>G</td>\n",
       "      <td>1987-08-16 01:00:00</td>\n",
       "      <td>BC</td>\n",
       "      <td>6' 3\"</td>\n",
       "      <td>190.5</td>\n",
       "      <td>215.0</td>\n",
       "      <td>L</td>\n",
       "    </tr>\n",
       "  </tbody>\n",
       "</table>\n",
       "</div>"
      ],
      "text/plain": [
       "     player_id firstName lastName nationality    birthCity primaryPosition  \\\n",
       "185    8471679     Carey    Price         CAN  Anahim Lake               G   \n",
       "\n",
       "               birthDate birthStateProvince height  height_cm  weight  \\\n",
       "185  1987-08-16 01:00:00                 BC  6' 3\"      190.5   215.0   \n",
       "\n",
       "    shootsCatches  \n",
       "185             L  "
      ]
     },
     "execution_count": 34,
     "metadata": {},
     "output_type": "execute_result"
    }
   ],
   "source": [
    "# Find Carey Price \n",
    "df_players[df_players.firstName == 'Carey']"
   ]
  },
  {
   "cell_type": "markdown",
   "metadata": {
    "id": "VKEfrf3uyqio"
   },
   "source": [
    "### Carey Price vs other goalies"
   ]
  },
  {
   "cell_type": "code",
   "execution_count": 35,
   "metadata": {
    "colab": {
     "base_uri": "https://localhost:8080/",
     "height": 443
    },
    "id": "3Miu9vfFyqip",
    "outputId": "4fd4dfce-db49-4588-92a0-1806954eea29"
   },
   "outputs": [
    {
     "data": {
      "text/html": [
       "<div>\n",
       "<style scoped>\n",
       "    .dataframe tbody tr th:only-of-type {\n",
       "        vertical-align: middle;\n",
       "    }\n",
       "\n",
       "    .dataframe tbody tr th {\n",
       "        vertical-align: top;\n",
       "    }\n",
       "\n",
       "    .dataframe thead th {\n",
       "        text-align: right;\n",
       "    }\n",
       "</style>\n",
       "<table border=\"1\" class=\"dataframe\">\n",
       "  <thead>\n",
       "    <tr style=\"text-align: right;\">\n",
       "      <th></th>\n",
       "      <th>game_id</th>\n",
       "      <th>player_id</th>\n",
       "      <th>team_id</th>\n",
       "      <th>timeOnIce</th>\n",
       "      <th>assists</th>\n",
       "      <th>goals</th>\n",
       "      <th>pim</th>\n",
       "      <th>shots</th>\n",
       "      <th>saves</th>\n",
       "      <th>powerPlaySaves</th>\n",
       "      <th>shortHandedSaves</th>\n",
       "      <th>evenSaves</th>\n",
       "      <th>shortHandedShotsAgainst</th>\n",
       "      <th>evenShotsAgainst</th>\n",
       "      <th>powerPlayShotsAgainst</th>\n",
       "      <th>decision</th>\n",
       "      <th>savePercentage</th>\n",
       "      <th>powerPlaySavePercentage</th>\n",
       "      <th>evenStrengthSavePercentage</th>\n",
       "    </tr>\n",
       "  </thead>\n",
       "  <tbody>\n",
       "    <tr>\n",
       "      <th>12</th>\n",
       "      <td>2016020610</td>\n",
       "      <td>8471679</td>\n",
       "      <td>8</td>\n",
       "      <td>3576</td>\n",
       "      <td>0</td>\n",
       "      <td>0</td>\n",
       "      <td>0</td>\n",
       "      <td>39</td>\n",
       "      <td>35</td>\n",
       "      <td>5</td>\n",
       "      <td>0</td>\n",
       "      <td>30</td>\n",
       "      <td>0</td>\n",
       "      <td>33</td>\n",
       "      <td>6</td>\n",
       "      <td>L</td>\n",
       "      <td>89.743590</td>\n",
       "      <td>83.333333</td>\n",
       "      <td>90.909091</td>\n",
       "    </tr>\n",
       "    <tr>\n",
       "      <th>57</th>\n",
       "      <td>2017020482</td>\n",
       "      <td>8471679</td>\n",
       "      <td>8</td>\n",
       "      <td>3709</td>\n",
       "      <td>0</td>\n",
       "      <td>0</td>\n",
       "      <td>0</td>\n",
       "      <td>32</td>\n",
       "      <td>31</td>\n",
       "      <td>5</td>\n",
       "      <td>3</td>\n",
       "      <td>23</td>\n",
       "      <td>3</td>\n",
       "      <td>24</td>\n",
       "      <td>5</td>\n",
       "      <td>W</td>\n",
       "      <td>96.875000</td>\n",
       "      <td>100.000000</td>\n",
       "      <td>95.833333</td>\n",
       "    </tr>\n",
       "    <tr>\n",
       "      <th>71</th>\n",
       "      <td>2016020264</td>\n",
       "      <td>8471679</td>\n",
       "      <td>8</td>\n",
       "      <td>3595</td>\n",
       "      <td>0</td>\n",
       "      <td>0</td>\n",
       "      <td>0</td>\n",
       "      <td>32</td>\n",
       "      <td>31</td>\n",
       "      <td>6</td>\n",
       "      <td>2</td>\n",
       "      <td>23</td>\n",
       "      <td>2</td>\n",
       "      <td>23</td>\n",
       "      <td>7</td>\n",
       "      <td>W</td>\n",
       "      <td>96.875000</td>\n",
       "      <td>85.714286</td>\n",
       "      <td>100.000000</td>\n",
       "    </tr>\n",
       "    <tr>\n",
       "      <th>200</th>\n",
       "      <td>2016020759</td>\n",
       "      <td>8471679</td>\n",
       "      <td>8</td>\n",
       "      <td>3514</td>\n",
       "      <td>0</td>\n",
       "      <td>0</td>\n",
       "      <td>0</td>\n",
       "      <td>23</td>\n",
       "      <td>21</td>\n",
       "      <td>5</td>\n",
       "      <td>0</td>\n",
       "      <td>16</td>\n",
       "      <td>0</td>\n",
       "      <td>17</td>\n",
       "      <td>6</td>\n",
       "      <td>L</td>\n",
       "      <td>91.304348</td>\n",
       "      <td>83.333333</td>\n",
       "      <td>94.117647</td>\n",
       "    </tr>\n",
       "    <tr>\n",
       "      <th>286</th>\n",
       "      <td>2016020143</td>\n",
       "      <td>8471679</td>\n",
       "      <td>8</td>\n",
       "      <td>3600</td>\n",
       "      <td>0</td>\n",
       "      <td>0</td>\n",
       "      <td>0</td>\n",
       "      <td>42</td>\n",
       "      <td>42</td>\n",
       "      <td>4</td>\n",
       "      <td>1</td>\n",
       "      <td>37</td>\n",
       "      <td>1</td>\n",
       "      <td>37</td>\n",
       "      <td>4</td>\n",
       "      <td>W</td>\n",
       "      <td>100.000000</td>\n",
       "      <td>100.000000</td>\n",
       "      <td>100.000000</td>\n",
       "    </tr>\n",
       "    <tr>\n",
       "      <th>...</th>\n",
       "      <td>...</td>\n",
       "      <td>...</td>\n",
       "      <td>...</td>\n",
       "      <td>...</td>\n",
       "      <td>...</td>\n",
       "      <td>...</td>\n",
       "      <td>...</td>\n",
       "      <td>...</td>\n",
       "      <td>...</td>\n",
       "      <td>...</td>\n",
       "      <td>...</td>\n",
       "      <td>...</td>\n",
       "      <td>...</td>\n",
       "      <td>...</td>\n",
       "      <td>...</td>\n",
       "      <td>...</td>\n",
       "      <td>...</td>\n",
       "      <td>...</td>\n",
       "      <td>...</td>\n",
       "    </tr>\n",
       "    <tr>\n",
       "      <th>55821</th>\n",
       "      <td>2018021155</td>\n",
       "      <td>8471679</td>\n",
       "      <td>8</td>\n",
       "      <td>3600</td>\n",
       "      <td>0</td>\n",
       "      <td>0</td>\n",
       "      <td>0</td>\n",
       "      <td>27</td>\n",
       "      <td>23</td>\n",
       "      <td>4</td>\n",
       "      <td>0</td>\n",
       "      <td>19</td>\n",
       "      <td>0</td>\n",
       "      <td>22</td>\n",
       "      <td>5</td>\n",
       "      <td>W</td>\n",
       "      <td>85.185185</td>\n",
       "      <td>80.000000</td>\n",
       "      <td>86.363636</td>\n",
       "    </tr>\n",
       "    <tr>\n",
       "      <th>55840</th>\n",
       "      <td>2018021166</td>\n",
       "      <td>8471679</td>\n",
       "      <td>8</td>\n",
       "      <td>3794</td>\n",
       "      <td>0</td>\n",
       "      <td>0</td>\n",
       "      <td>0</td>\n",
       "      <td>40</td>\n",
       "      <td>38</td>\n",
       "      <td>1</td>\n",
       "      <td>0</td>\n",
       "      <td>37</td>\n",
       "      <td>0</td>\n",
       "      <td>39</td>\n",
       "      <td>1</td>\n",
       "      <td>L</td>\n",
       "      <td>95.000000</td>\n",
       "      <td>100.000000</td>\n",
       "      <td>94.871795</td>\n",
       "    </tr>\n",
       "    <tr>\n",
       "      <th>55850</th>\n",
       "      <td>2018021166</td>\n",
       "      <td>8471679</td>\n",
       "      <td>8</td>\n",
       "      <td>3794</td>\n",
       "      <td>0</td>\n",
       "      <td>0</td>\n",
       "      <td>0</td>\n",
       "      <td>40</td>\n",
       "      <td>38</td>\n",
       "      <td>1</td>\n",
       "      <td>0</td>\n",
       "      <td>37</td>\n",
       "      <td>0</td>\n",
       "      <td>39</td>\n",
       "      <td>1</td>\n",
       "      <td>L</td>\n",
       "      <td>95.000000</td>\n",
       "      <td>100.000000</td>\n",
       "      <td>94.871795</td>\n",
       "    </tr>\n",
       "    <tr>\n",
       "      <th>55900</th>\n",
       "      <td>2018021180</td>\n",
       "      <td>8471679</td>\n",
       "      <td>8</td>\n",
       "      <td>3600</td>\n",
       "      <td>0</td>\n",
       "      <td>0</td>\n",
       "      <td>0</td>\n",
       "      <td>34</td>\n",
       "      <td>33</td>\n",
       "      <td>9</td>\n",
       "      <td>3</td>\n",
       "      <td>21</td>\n",
       "      <td>3</td>\n",
       "      <td>21</td>\n",
       "      <td>10</td>\n",
       "      <td>W</td>\n",
       "      <td>97.058824</td>\n",
       "      <td>90.000000</td>\n",
       "      <td>100.000000</td>\n",
       "    </tr>\n",
       "    <tr>\n",
       "      <th>55916</th>\n",
       "      <td>2018021180</td>\n",
       "      <td>8471679</td>\n",
       "      <td>8</td>\n",
       "      <td>3600</td>\n",
       "      <td>0</td>\n",
       "      <td>0</td>\n",
       "      <td>0</td>\n",
       "      <td>34</td>\n",
       "      <td>33</td>\n",
       "      <td>9</td>\n",
       "      <td>3</td>\n",
       "      <td>21</td>\n",
       "      <td>3</td>\n",
       "      <td>21</td>\n",
       "      <td>10</td>\n",
       "      <td>W</td>\n",
       "      <td>97.058824</td>\n",
       "      <td>90.000000</td>\n",
       "      <td>100.000000</td>\n",
       "    </tr>\n",
       "  </tbody>\n",
       "</table>\n",
       "<p>803 rows × 19 columns</p>\n",
       "</div>"
      ],
      "text/plain": [
       "          game_id  player_id  team_id  timeOnIce  assists  goals  pim  shots  \\\n",
       "12     2016020610    8471679        8       3576        0      0    0     39   \n",
       "57     2017020482    8471679        8       3709        0      0    0     32   \n",
       "71     2016020264    8471679        8       3595        0      0    0     32   \n",
       "200    2016020759    8471679        8       3514        0      0    0     23   \n",
       "286    2016020143    8471679        8       3600        0      0    0     42   \n",
       "...           ...        ...      ...        ...      ...    ...  ...    ...   \n",
       "55821  2018021155    8471679        8       3600        0      0    0     27   \n",
       "55840  2018021166    8471679        8       3794        0      0    0     40   \n",
       "55850  2018021166    8471679        8       3794        0      0    0     40   \n",
       "55900  2018021180    8471679        8       3600        0      0    0     34   \n",
       "55916  2018021180    8471679        8       3600        0      0    0     34   \n",
       "\n",
       "       saves  powerPlaySaves  shortHandedSaves  evenSaves  \\\n",
       "12        35               5                 0         30   \n",
       "57        31               5                 3         23   \n",
       "71        31               6                 2         23   \n",
       "200       21               5                 0         16   \n",
       "286       42               4                 1         37   \n",
       "...      ...             ...               ...        ...   \n",
       "55821     23               4                 0         19   \n",
       "55840     38               1                 0         37   \n",
       "55850     38               1                 0         37   \n",
       "55900     33               9                 3         21   \n",
       "55916     33               9                 3         21   \n",
       "\n",
       "       shortHandedShotsAgainst  evenShotsAgainst  powerPlayShotsAgainst  \\\n",
       "12                           0                33                      6   \n",
       "57                           3                24                      5   \n",
       "71                           2                23                      7   \n",
       "200                          0                17                      6   \n",
       "286                          1                37                      4   \n",
       "...                        ...               ...                    ...   \n",
       "55821                        0                22                      5   \n",
       "55840                        0                39                      1   \n",
       "55850                        0                39                      1   \n",
       "55900                        3                21                     10   \n",
       "55916                        3                21                     10   \n",
       "\n",
       "      decision  savePercentage  powerPlaySavePercentage  \\\n",
       "12           L       89.743590                83.333333   \n",
       "57           W       96.875000               100.000000   \n",
       "71           W       96.875000                85.714286   \n",
       "200          L       91.304348                83.333333   \n",
       "286          W      100.000000               100.000000   \n",
       "...        ...             ...                      ...   \n",
       "55821        W       85.185185                80.000000   \n",
       "55840        L       95.000000               100.000000   \n",
       "55850        L       95.000000               100.000000   \n",
       "55900        W       97.058824                90.000000   \n",
       "55916        W       97.058824                90.000000   \n",
       "\n",
       "       evenStrengthSavePercentage  \n",
       "12                      90.909091  \n",
       "57                      95.833333  \n",
       "71                     100.000000  \n",
       "200                     94.117647  \n",
       "286                    100.000000  \n",
       "...                           ...  \n",
       "55821                   86.363636  \n",
       "55840                   94.871795  \n",
       "55850                   94.871795  \n",
       "55900                  100.000000  \n",
       "55916                  100.000000  \n",
       "\n",
       "[803 rows x 19 columns]"
      ]
     },
     "execution_count": 35,
     "metadata": {},
     "output_type": "execute_result"
    }
   ],
   "source": [
    "df_goalies = pd.read_csv('game_goalie_stats.csv')\n",
    "df_goalies = df_goalies.dropna()\n",
    "df_goalies[df_goalies.player_id == 8471679]"
   ]
  },
  {
   "cell_type": "code",
   "execution_count": 36,
   "metadata": {
    "colab": {
     "base_uri": "https://localhost:8080/"
    },
    "id": "9PSveLHVyqiq",
    "outputId": "ccd81a1a-190f-437f-b003-cf89f73343a7"
   },
   "outputs": [
    {
     "data": {
      "text/plain": [
       "91.9986990972293"
      ]
     },
     "execution_count": 36,
     "metadata": {},
     "output_type": "execute_result"
    }
   ],
   "source": [
    "# His save percentage when both teams are at even strength (no one in the penalty box)\n",
    "df_goalies[df_goalies.player_id == 8471679]['evenStrengthSavePercentage'].mean()"
   ]
  },
  {
   "cell_type": "markdown",
   "metadata": {},
   "source": [
    "### Carey still does better than the rest of the league."
   ]
  },
  {
   "cell_type": "code",
   "execution_count": 37,
   "metadata": {
    "colab": {
     "base_uri": "https://localhost:8080/"
    },
    "id": "lfcm8jxnyqir",
    "outputId": "b397de91-6d8a-4e58-c7dd-525d1a57d4ad"
   },
   "outputs": [
    {
     "data": {
      "text/plain": [
       "91.61411967960098"
      ]
     },
     "execution_count": 37,
     "metadata": {},
     "output_type": "execute_result"
    }
   ],
   "source": [
    "# the entire league average save percentage\n",
    "df_goalies['evenStrengthSavePercentage'].mean()"
   ]
  },
  {
   "cell_type": "markdown",
   "metadata": {},
   "source": [
    "## Section 3 (part 1): Data Preparation"
   ]
  },
  {
   "cell_type": "markdown",
   "metadata": {
    "id": "iRs9gwozyqir"
   },
   "source": [
    "### Create DataFrame of distinct goalies and their mean save percentages"
   ]
  },
  {
   "cell_type": "code",
   "execution_count": 38,
   "metadata": {},
   "outputs": [],
   "source": [
    "# Grab all goalie averages, convert to DataFrame\n",
    "def goalie_averages(df_goalies):\n",
    "    '''\n",
    "    INPUT:\n",
    "    df_goalies - pandas dataframe of goalie data from our dataset\n",
    "    \n",
    "    OUTPUT:\n",
    "    df_goalie_averages - a new dataframe that has the following characteristics:\n",
    "            1. grouped by the player id\n",
    "            2. contains the mean even strength save percentage for each player\n",
    "            3. converts the Series back to a dataframe\n",
    "            4. rename the column to SavePercentage to focus solely on that aspect\n",
    "            5. resets the index to tidy the dataframe\n",
    "    '''\n",
    "    df_goalie_averages = df_goalies.groupby(['player_id'])['evenStrengthSavePercentage'].mean()\n",
    "    df_goalie_averages = df_goalie_averages.to_frame()\n",
    "    df_goalie_averages.rename(columns = {'evenStrengthSavePercentage': 'SavePercentage'}, inplace=True)\n",
    "    df_goalie_averages.reset_index(inplace=True)\n",
    "    return df_goalie_averages"
   ]
  },
  {
   "cell_type": "code",
   "execution_count": 39,
   "metadata": {
    "id": "vjSes1dLyqis"
   },
   "outputs": [],
   "source": [
    "df_goalie_averages = goalie_averages(df_goalies)"
   ]
  },
  {
   "cell_type": "code",
   "execution_count": 40,
   "metadata": {
    "colab": {
     "base_uri": "https://localhost:8080/",
     "height": 81
    },
    "id": "apn1KVIlyqit",
    "outputId": "df045e5e-5e93-4e6d-ff53-3407c5645c5f"
   },
   "outputs": [
    {
     "data": {
      "text/html": [
       "<div>\n",
       "<style scoped>\n",
       "    .dataframe tbody tr th:only-of-type {\n",
       "        vertical-align: middle;\n",
       "    }\n",
       "\n",
       "    .dataframe tbody tr th {\n",
       "        vertical-align: top;\n",
       "    }\n",
       "\n",
       "    .dataframe thead th {\n",
       "        text-align: right;\n",
       "    }\n",
       "</style>\n",
       "<table border=\"1\" class=\"dataframe\">\n",
       "  <thead>\n",
       "    <tr style=\"text-align: right;\">\n",
       "      <th></th>\n",
       "      <th>player_id</th>\n",
       "      <th>SavePercentage</th>\n",
       "    </tr>\n",
       "  </thead>\n",
       "  <tbody>\n",
       "    <tr>\n",
       "      <th>179</th>\n",
       "      <td>8471679</td>\n",
       "      <td>91.998699</td>\n",
       "    </tr>\n",
       "  </tbody>\n",
       "</table>\n",
       "</div>"
      ],
      "text/plain": [
       "     player_id  SavePercentage\n",
       "179    8471679       91.998699"
      ]
     },
     "execution_count": 40,
     "metadata": {},
     "output_type": "execute_result"
    }
   ],
   "source": [
    "df_goalie_averages[df_goalie_averages.player_id == 8471679]"
   ]
  },
  {
   "cell_type": "markdown",
   "metadata": {},
   "source": [
    "### Plot proportions and counts of goalies based on their save percentages"
   ]
  },
  {
   "cell_type": "code",
   "execution_count": 41,
   "metadata": {
    "colab": {
     "base_uri": "https://localhost:8080/",
     "height": 380
    },
    "id": "u_BpVh_yyqiu",
    "outputId": "5d7f4180-d932-48fa-fb75-fdc88c95261a"
   },
   "outputs": [
    {
     "name": "stderr",
     "output_type": "stream",
     "text": [
      "C:\\Users\\phill\\anaconda3\\lib\\site-packages\\seaborn\\distributions.py:2551: FutureWarning: `distplot` is a deprecated function and will be removed in a future version. Please adapt your code to use either `displot` (a figure-level function with similar flexibility) or `histplot` (an axes-level function for histograms).\n",
      "  warnings.warn(msg, FutureWarning)\n"
     ]
    },
    {
     "data": {
      "image/png": "[encoded data removed]",
      "text/plain": [
       "<Figure size 432x288 with 1 Axes>"
      ]
     },
     "metadata": {
      "needs_background": "light"
     },
     "output_type": "display_data"
    }
   ],
   "source": [
    "# Plot the proportions of goalie save percentages \n",
    "\n",
    "bins = np.arange(10, df_goalie_averages['SavePercentage'].max()+5, 5)\n",
    "sb.distplot(df_goalie_averages['SavePercentage'], bins=bins)\n",
    "plt.xlabel('Save Percentage')\n",
    "plt.ylabel('Proportion of Goalies')\n",
    "plt.title('Even Strength Save Percentage by Proportion')\n",
    "plt.show()"
   ]
  },
  {
   "cell_type": "markdown",
   "metadata": {},
   "source": [
    "### Save Percentage by Proportion\n",
    "As we can see above, a large proportion of NHL goalies have even strength save percentages that hover between 80% and 95%. There are outliers in the data. I'm also sure that those with unusually high percentages would be found to only have a few games played, meaning they haven't had long careers or just had really lucky nights.\n",
    "\n",
    "Carey Price would fall into the bin with the tallest bar."
   ]
  },
  {
   "cell_type": "code",
   "execution_count": 42,
   "metadata": {
    "colab": {
     "base_uri": "https://localhost:8080/",
     "height": 325
    },
    "id": "wrJoyy6uyqiu",
    "outputId": "3e2ab5b4-c2ae-47cc-a2b1-99b83af18af5"
   },
   "outputs": [
    {
     "data": {
      "image/png": "[encoded data removed]",
      "text/plain": [
       "<Figure size 432x288 with 1 Axes>"
      ]
     },
     "metadata": {
      "needs_background": "light"
     },
     "output_type": "display_data"
    }
   ],
   "source": [
    "# Plot the counts of goalies by their average save percentage\n",
    "ticks = [50, 60, 70, 80, 90, 100]\n",
    "labels = ['{}'.format(v) for v in ticks]\n",
    "plt.hist(data = df_goalie_averages, x = 'SavePercentage', bins=bins)\n",
    "plt.xscale('log')\n",
    "plt.xticks(ticks, labels)\n",
    "plt.xlim((75,100))\n",
    "plt.xlabel('Save Percentage')\n",
    "plt.ylabel('Counts of Goalies')\n",
    "plt.title('Save Percentage of Goalies by Count')\n",
    "plt.show()"
   ]
  },
  {
   "cell_type": "markdown",
   "metadata": {},
   "source": [
    "### Save Percentages by Count\n",
    "Again, this graph is the same as above, but focuses on the counts of goalies instead of proportions and is \"zoomed in\" to focus on that core group of goalies that have long careers by which they could be measured. Carey still falls into the bin with the tallest bar which is what we would expect for a long-term high performing goalie."
   ]
  },
  {
   "cell_type": "markdown",
   "metadata": {
    "id": "iURvQ-Ueyqiv"
   },
   "source": [
    "### Covert game_id to str, substring out last two numbers, then convert to date and add as extra column\n",
    "The data in each of these files has a unique game_id. It almost looks like it could be broken down into a date and the game number in that season. Using this assumption I want to break it out into a new date field to get so I can visualize over time how many saves Carey has in his career."
   ]
  },
  {
   "cell_type": "code",
   "execution_count": 43,
   "metadata": {
    "colab": {
     "base_uri": "https://localhost:8080/",
     "height": 443
    },
    "id": "h0Zx-Fcsyqiw",
    "outputId": "d301ab61-b1f9-4de7-fce9-3776eea6661a"
   },
   "outputs": [
    {
     "data": {
      "text/html": [
       "<div>\n",
       "<style scoped>\n",
       "    .dataframe tbody tr th:only-of-type {\n",
       "        vertical-align: middle;\n",
       "    }\n",
       "\n",
       "    .dataframe tbody tr th {\n",
       "        vertical-align: top;\n",
       "    }\n",
       "\n",
       "    .dataframe thead th {\n",
       "        text-align: right;\n",
       "    }\n",
       "</style>\n",
       "<table border=\"1\" class=\"dataframe\">\n",
       "  <thead>\n",
       "    <tr style=\"text-align: right;\">\n",
       "      <th></th>\n",
       "      <th>game_id</th>\n",
       "      <th>player_id</th>\n",
       "      <th>team_id</th>\n",
       "      <th>timeOnIce</th>\n",
       "      <th>assists</th>\n",
       "      <th>goals</th>\n",
       "      <th>pim</th>\n",
       "      <th>shots</th>\n",
       "      <th>saves</th>\n",
       "      <th>powerPlaySaves</th>\n",
       "      <th>shortHandedSaves</th>\n",
       "      <th>evenSaves</th>\n",
       "      <th>shortHandedShotsAgainst</th>\n",
       "      <th>evenShotsAgainst</th>\n",
       "      <th>powerPlayShotsAgainst</th>\n",
       "      <th>decision</th>\n",
       "      <th>savePercentage</th>\n",
       "      <th>powerPlaySavePercentage</th>\n",
       "      <th>evenStrengthSavePercentage</th>\n",
       "      <th>date</th>\n",
       "    </tr>\n",
       "  </thead>\n",
       "  <tbody>\n",
       "    <tr>\n",
       "      <th>1</th>\n",
       "      <td>2016020045</td>\n",
       "      <td>8473461</td>\n",
       "      <td>4</td>\n",
       "      <td>2011</td>\n",
       "      <td>0</td>\n",
       "      <td>0</td>\n",
       "      <td>0</td>\n",
       "      <td>11</td>\n",
       "      <td>9</td>\n",
       "      <td>1</td>\n",
       "      <td>0</td>\n",
       "      <td>8</td>\n",
       "      <td>0</td>\n",
       "      <td>10</td>\n",
       "      <td>1</td>\n",
       "      <td>L</td>\n",
       "      <td>81.818182</td>\n",
       "      <td>100.0</td>\n",
       "      <td>80.000000</td>\n",
       "      <td>2016020045</td>\n",
       "    </tr>\n",
       "    <tr>\n",
       "      <th>2</th>\n",
       "      <td>2016020045</td>\n",
       "      <td>8470645</td>\n",
       "      <td>16</td>\n",
       "      <td>3598</td>\n",
       "      <td>0</td>\n",
       "      <td>0</td>\n",
       "      <td>0</td>\n",
       "      <td>27</td>\n",
       "      <td>23</td>\n",
       "      <td>2</td>\n",
       "      <td>0</td>\n",
       "      <td>21</td>\n",
       "      <td>0</td>\n",
       "      <td>23</td>\n",
       "      <td>4</td>\n",
       "      <td>W</td>\n",
       "      <td>85.185185</td>\n",
       "      <td>50.0</td>\n",
       "      <td>91.304348</td>\n",
       "      <td>2016020045</td>\n",
       "    </tr>\n",
       "    <tr>\n",
       "      <th>3</th>\n",
       "      <td>2017020812</td>\n",
       "      <td>8468011</td>\n",
       "      <td>24</td>\n",
       "      <td>3696</td>\n",
       "      <td>0</td>\n",
       "      <td>0</td>\n",
       "      <td>0</td>\n",
       "      <td>33</td>\n",
       "      <td>30</td>\n",
       "      <td>1</td>\n",
       "      <td>2</td>\n",
       "      <td>27</td>\n",
       "      <td>3</td>\n",
       "      <td>28</td>\n",
       "      <td>2</td>\n",
       "      <td>W</td>\n",
       "      <td>90.909091</td>\n",
       "      <td>50.0</td>\n",
       "      <td>96.428571</td>\n",
       "      <td>2017020812</td>\n",
       "    </tr>\n",
       "    <tr>\n",
       "      <th>4</th>\n",
       "      <td>2017020812</td>\n",
       "      <td>8475215</td>\n",
       "      <td>7</td>\n",
       "      <td>3539</td>\n",
       "      <td>0</td>\n",
       "      <td>0</td>\n",
       "      <td>0</td>\n",
       "      <td>33</td>\n",
       "      <td>29</td>\n",
       "      <td>4</td>\n",
       "      <td>1</td>\n",
       "      <td>24</td>\n",
       "      <td>1</td>\n",
       "      <td>27</td>\n",
       "      <td>5</td>\n",
       "      <td>L</td>\n",
       "      <td>87.878788</td>\n",
       "      <td>80.0</td>\n",
       "      <td>88.888889</td>\n",
       "      <td>2017020812</td>\n",
       "    </tr>\n",
       "    <tr>\n",
       "      <th>5</th>\n",
       "      <td>2015020314</td>\n",
       "      <td>8473575</td>\n",
       "      <td>21</td>\n",
       "      <td>3600</td>\n",
       "      <td>0</td>\n",
       "      <td>0</td>\n",
       "      <td>0</td>\n",
       "      <td>21</td>\n",
       "      <td>20</td>\n",
       "      <td>3</td>\n",
       "      <td>1</td>\n",
       "      <td>16</td>\n",
       "      <td>1</td>\n",
       "      <td>17</td>\n",
       "      <td>3</td>\n",
       "      <td>W</td>\n",
       "      <td>95.238095</td>\n",
       "      <td>100.0</td>\n",
       "      <td>94.117647</td>\n",
       "      <td>2015020314</td>\n",
       "    </tr>\n",
       "    <tr>\n",
       "      <th>...</th>\n",
       "      <td>...</td>\n",
       "      <td>...</td>\n",
       "      <td>...</td>\n",
       "      <td>...</td>\n",
       "      <td>...</td>\n",
       "      <td>...</td>\n",
       "      <td>...</td>\n",
       "      <td>...</td>\n",
       "      <td>...</td>\n",
       "      <td>...</td>\n",
       "      <td>...</td>\n",
       "      <td>...</td>\n",
       "      <td>...</td>\n",
       "      <td>...</td>\n",
       "      <td>...</td>\n",
       "      <td>...</td>\n",
       "      <td>...</td>\n",
       "      <td>...</td>\n",
       "      <td>...</td>\n",
       "      <td>...</td>\n",
       "    </tr>\n",
       "    <tr>\n",
       "      <th>56649</th>\n",
       "      <td>2018030416</td>\n",
       "      <td>8476412</td>\n",
       "      <td>19</td>\n",
       "      <td>3487</td>\n",
       "      <td>0</td>\n",
       "      <td>0</td>\n",
       "      <td>0</td>\n",
       "      <td>31</td>\n",
       "      <td>27</td>\n",
       "      <td>3</td>\n",
       "      <td>1</td>\n",
       "      <td>23</td>\n",
       "      <td>1</td>\n",
       "      <td>26</td>\n",
       "      <td>4</td>\n",
       "      <td>L</td>\n",
       "      <td>87.096774</td>\n",
       "      <td>75.0</td>\n",
       "      <td>88.461538</td>\n",
       "      <td>2018030416</td>\n",
       "    </tr>\n",
       "    <tr>\n",
       "      <th>56650</th>\n",
       "      <td>2018030416</td>\n",
       "      <td>8471695</td>\n",
       "      <td>6</td>\n",
       "      <td>3600</td>\n",
       "      <td>0</td>\n",
       "      <td>0</td>\n",
       "      <td>0</td>\n",
       "      <td>29</td>\n",
       "      <td>28</td>\n",
       "      <td>12</td>\n",
       "      <td>1</td>\n",
       "      <td>15</td>\n",
       "      <td>1</td>\n",
       "      <td>16</td>\n",
       "      <td>12</td>\n",
       "      <td>W</td>\n",
       "      <td>96.551724</td>\n",
       "      <td>100.0</td>\n",
       "      <td>93.750000</td>\n",
       "      <td>2018030416</td>\n",
       "    </tr>\n",
       "    <tr>\n",
       "      <th>56651</th>\n",
       "      <td>2018030416</td>\n",
       "      <td>8476412</td>\n",
       "      <td>19</td>\n",
       "      <td>3487</td>\n",
       "      <td>0</td>\n",
       "      <td>0</td>\n",
       "      <td>0</td>\n",
       "      <td>31</td>\n",
       "      <td>27</td>\n",
       "      <td>3</td>\n",
       "      <td>1</td>\n",
       "      <td>23</td>\n",
       "      <td>1</td>\n",
       "      <td>26</td>\n",
       "      <td>4</td>\n",
       "      <td>L</td>\n",
       "      <td>87.096774</td>\n",
       "      <td>75.0</td>\n",
       "      <td>88.461538</td>\n",
       "      <td>2018030416</td>\n",
       "    </tr>\n",
       "    <tr>\n",
       "      <th>56652</th>\n",
       "      <td>2018030417</td>\n",
       "      <td>8476412</td>\n",
       "      <td>19</td>\n",
       "      <td>3600</td>\n",
       "      <td>0</td>\n",
       "      <td>0</td>\n",
       "      <td>0</td>\n",
       "      <td>33</td>\n",
       "      <td>32</td>\n",
       "      <td>3</td>\n",
       "      <td>0</td>\n",
       "      <td>29</td>\n",
       "      <td>0</td>\n",
       "      <td>30</td>\n",
       "      <td>3</td>\n",
       "      <td>W</td>\n",
       "      <td>96.969697</td>\n",
       "      <td>100.0</td>\n",
       "      <td>96.666667</td>\n",
       "      <td>2018030417</td>\n",
       "    </tr>\n",
       "    <tr>\n",
       "      <th>56654</th>\n",
       "      <td>2018030417</td>\n",
       "      <td>8476412</td>\n",
       "      <td>19</td>\n",
       "      <td>3600</td>\n",
       "      <td>0</td>\n",
       "      <td>0</td>\n",
       "      <td>0</td>\n",
       "      <td>33</td>\n",
       "      <td>32</td>\n",
       "      <td>3</td>\n",
       "      <td>0</td>\n",
       "      <td>29</td>\n",
       "      <td>0</td>\n",
       "      <td>30</td>\n",
       "      <td>3</td>\n",
       "      <td>W</td>\n",
       "      <td>96.969697</td>\n",
       "      <td>100.0</td>\n",
       "      <td>96.666667</td>\n",
       "      <td>2018030417</td>\n",
       "    </tr>\n",
       "  </tbody>\n",
       "</table>\n",
       "<p>49284 rows × 20 columns</p>\n",
       "</div>"
      ],
      "text/plain": [
       "          game_id  player_id  team_id  timeOnIce  assists  goals  pim  shots  \\\n",
       "1      2016020045    8473461        4       2011        0      0    0     11   \n",
       "2      2016020045    8470645       16       3598        0      0    0     27   \n",
       "3      2017020812    8468011       24       3696        0      0    0     33   \n",
       "4      2017020812    8475215        7       3539        0      0    0     33   \n",
       "5      2015020314    8473575       21       3600        0      0    0     21   \n",
       "...           ...        ...      ...        ...      ...    ...  ...    ...   \n",
       "56649  2018030416    8476412       19       3487        0      0    0     31   \n",
       "56650  2018030416    8471695        6       3600        0      0    0     29   \n",
       "56651  2018030416    8476412       19       3487        0      0    0     31   \n",
       "56652  2018030417    8476412       19       3600        0      0    0     33   \n",
       "56654  2018030417    8476412       19       3600        0      0    0     33   \n",
       "\n",
       "       saves  powerPlaySaves  shortHandedSaves  evenSaves  \\\n",
       "1          9               1                 0          8   \n",
       "2         23               2                 0         21   \n",
       "3         30               1                 2         27   \n",
       "4         29               4                 1         24   \n",
       "5         20               3                 1         16   \n",
       "...      ...             ...               ...        ...   \n",
       "56649     27               3                 1         23   \n",
       "56650     28              12                 1         15   \n",
       "56651     27               3                 1         23   \n",
       "56652     32               3                 0         29   \n",
       "56654     32               3                 0         29   \n",
       "\n",
       "       shortHandedShotsAgainst  evenShotsAgainst  powerPlayShotsAgainst  \\\n",
       "1                            0                10                      1   \n",
       "2                            0                23                      4   \n",
       "3                            3                28                      2   \n",
       "4                            1                27                      5   \n",
       "5                            1                17                      3   \n",
       "...                        ...               ...                    ...   \n",
       "56649                        1                26                      4   \n",
       "56650                        1                16                     12   \n",
       "56651                        1                26                      4   \n",
       "56652                        0                30                      3   \n",
       "56654                        0                30                      3   \n",
       "\n",
       "      decision  savePercentage  powerPlaySavePercentage  \\\n",
       "1            L       81.818182                    100.0   \n",
       "2            W       85.185185                     50.0   \n",
       "3            W       90.909091                     50.0   \n",
       "4            L       87.878788                     80.0   \n",
       "5            W       95.238095                    100.0   \n",
       "...        ...             ...                      ...   \n",
       "56649        L       87.096774                     75.0   \n",
       "56650        W       96.551724                    100.0   \n",
       "56651        L       87.096774                     75.0   \n",
       "56652        W       96.969697                    100.0   \n",
       "56654        W       96.969697                    100.0   \n",
       "\n",
       "       evenStrengthSavePercentage        date  \n",
       "1                       80.000000  2016020045  \n",
       "2                       91.304348  2016020045  \n",
       "3                       96.428571  2017020812  \n",
       "4                       88.888889  2017020812  \n",
       "5                       94.117647  2015020314  \n",
       "...                           ...         ...  \n",
       "56649                   88.461538  2018030416  \n",
       "56650                   93.750000  2018030416  \n",
       "56651                   88.461538  2018030416  \n",
       "56652                   96.666667  2018030417  \n",
       "56654                   96.666667  2018030417  \n",
       "\n",
       "[49284 rows x 20 columns]"
      ]
     },
     "execution_count": 43,
     "metadata": {},
     "output_type": "execute_result"
    }
   ],
   "source": [
    "df_goalies['date'] = df_goalies['game_id'].apply(str)\n",
    "df_goalies"
   ]
  },
  {
   "cell_type": "code",
   "execution_count": 44,
   "metadata": {
    "colab": {
     "base_uri": "https://localhost:8080/",
     "height": 443
    },
    "id": "5uelhVzByqiw",
    "outputId": "57445470-d0a6-4f78-857b-4ca9c3643532"
   },
   "outputs": [
    {
     "data": {
      "text/html": [
       "<div>\n",
       "<style scoped>\n",
       "    .dataframe tbody tr th:only-of-type {\n",
       "        vertical-align: middle;\n",
       "    }\n",
       "\n",
       "    .dataframe tbody tr th {\n",
       "        vertical-align: top;\n",
       "    }\n",
       "\n",
       "    .dataframe thead th {\n",
       "        text-align: right;\n",
       "    }\n",
       "</style>\n",
       "<table border=\"1\" class=\"dataframe\">\n",
       "  <thead>\n",
       "    <tr style=\"text-align: right;\">\n",
       "      <th></th>\n",
       "      <th>game_id</th>\n",
       "      <th>player_id</th>\n",
       "      <th>team_id</th>\n",
       "      <th>timeOnIce</th>\n",
       "      <th>assists</th>\n",
       "      <th>goals</th>\n",
       "      <th>pim</th>\n",
       "      <th>shots</th>\n",
       "      <th>saves</th>\n",
       "      <th>powerPlaySaves</th>\n",
       "      <th>shortHandedSaves</th>\n",
       "      <th>evenSaves</th>\n",
       "      <th>shortHandedShotsAgainst</th>\n",
       "      <th>evenShotsAgainst</th>\n",
       "      <th>powerPlayShotsAgainst</th>\n",
       "      <th>decision</th>\n",
       "      <th>savePercentage</th>\n",
       "      <th>powerPlaySavePercentage</th>\n",
       "      <th>evenStrengthSavePercentage</th>\n",
       "      <th>date</th>\n",
       "    </tr>\n",
       "  </thead>\n",
       "  <tbody>\n",
       "    <tr>\n",
       "      <th>1</th>\n",
       "      <td>2016020045</td>\n",
       "      <td>8473461</td>\n",
       "      <td>4</td>\n",
       "      <td>2011</td>\n",
       "      <td>0</td>\n",
       "      <td>0</td>\n",
       "      <td>0</td>\n",
       "      <td>11</td>\n",
       "      <td>9</td>\n",
       "      <td>1</td>\n",
       "      <td>0</td>\n",
       "      <td>8</td>\n",
       "      <td>0</td>\n",
       "      <td>10</td>\n",
       "      <td>1</td>\n",
       "      <td>L</td>\n",
       "      <td>81.818182</td>\n",
       "      <td>100.0</td>\n",
       "      <td>80.000000</td>\n",
       "      <td>20160200</td>\n",
       "    </tr>\n",
       "    <tr>\n",
       "      <th>2</th>\n",
       "      <td>2016020045</td>\n",
       "      <td>8470645</td>\n",
       "      <td>16</td>\n",
       "      <td>3598</td>\n",
       "      <td>0</td>\n",
       "      <td>0</td>\n",
       "      <td>0</td>\n",
       "      <td>27</td>\n",
       "      <td>23</td>\n",
       "      <td>2</td>\n",
       "      <td>0</td>\n",
       "      <td>21</td>\n",
       "      <td>0</td>\n",
       "      <td>23</td>\n",
       "      <td>4</td>\n",
       "      <td>W</td>\n",
       "      <td>85.185185</td>\n",
       "      <td>50.0</td>\n",
       "      <td>91.304348</td>\n",
       "      <td>20160200</td>\n",
       "    </tr>\n",
       "    <tr>\n",
       "      <th>3</th>\n",
       "      <td>2017020812</td>\n",
       "      <td>8468011</td>\n",
       "      <td>24</td>\n",
       "      <td>3696</td>\n",
       "      <td>0</td>\n",
       "      <td>0</td>\n",
       "      <td>0</td>\n",
       "      <td>33</td>\n",
       "      <td>30</td>\n",
       "      <td>1</td>\n",
       "      <td>2</td>\n",
       "      <td>27</td>\n",
       "      <td>3</td>\n",
       "      <td>28</td>\n",
       "      <td>2</td>\n",
       "      <td>W</td>\n",
       "      <td>90.909091</td>\n",
       "      <td>50.0</td>\n",
       "      <td>96.428571</td>\n",
       "      <td>20170208</td>\n",
       "    </tr>\n",
       "    <tr>\n",
       "      <th>4</th>\n",
       "      <td>2017020812</td>\n",
       "      <td>8475215</td>\n",
       "      <td>7</td>\n",
       "      <td>3539</td>\n",
       "      <td>0</td>\n",
       "      <td>0</td>\n",
       "      <td>0</td>\n",
       "      <td>33</td>\n",
       "      <td>29</td>\n",
       "      <td>4</td>\n",
       "      <td>1</td>\n",
       "      <td>24</td>\n",
       "      <td>1</td>\n",
       "      <td>27</td>\n",
       "      <td>5</td>\n",
       "      <td>L</td>\n",
       "      <td>87.878788</td>\n",
       "      <td>80.0</td>\n",
       "      <td>88.888889</td>\n",
       "      <td>20170208</td>\n",
       "    </tr>\n",
       "    <tr>\n",
       "      <th>5</th>\n",
       "      <td>2015020314</td>\n",
       "      <td>8473575</td>\n",
       "      <td>21</td>\n",
       "      <td>3600</td>\n",
       "      <td>0</td>\n",
       "      <td>0</td>\n",
       "      <td>0</td>\n",
       "      <td>21</td>\n",
       "      <td>20</td>\n",
       "      <td>3</td>\n",
       "      <td>1</td>\n",
       "      <td>16</td>\n",
       "      <td>1</td>\n",
       "      <td>17</td>\n",
       "      <td>3</td>\n",
       "      <td>W</td>\n",
       "      <td>95.238095</td>\n",
       "      <td>100.0</td>\n",
       "      <td>94.117647</td>\n",
       "      <td>20150203</td>\n",
       "    </tr>\n",
       "    <tr>\n",
       "      <th>...</th>\n",
       "      <td>...</td>\n",
       "      <td>...</td>\n",
       "      <td>...</td>\n",
       "      <td>...</td>\n",
       "      <td>...</td>\n",
       "      <td>...</td>\n",
       "      <td>...</td>\n",
       "      <td>...</td>\n",
       "      <td>...</td>\n",
       "      <td>...</td>\n",
       "      <td>...</td>\n",
       "      <td>...</td>\n",
       "      <td>...</td>\n",
       "      <td>...</td>\n",
       "      <td>...</td>\n",
       "      <td>...</td>\n",
       "      <td>...</td>\n",
       "      <td>...</td>\n",
       "      <td>...</td>\n",
       "      <td>...</td>\n",
       "    </tr>\n",
       "    <tr>\n",
       "      <th>56649</th>\n",
       "      <td>2018030416</td>\n",
       "      <td>8476412</td>\n",
       "      <td>19</td>\n",
       "      <td>3487</td>\n",
       "      <td>0</td>\n",
       "      <td>0</td>\n",
       "      <td>0</td>\n",
       "      <td>31</td>\n",
       "      <td>27</td>\n",
       "      <td>3</td>\n",
       "      <td>1</td>\n",
       "      <td>23</td>\n",
       "      <td>1</td>\n",
       "      <td>26</td>\n",
       "      <td>4</td>\n",
       "      <td>L</td>\n",
       "      <td>87.096774</td>\n",
       "      <td>75.0</td>\n",
       "      <td>88.461538</td>\n",
       "      <td>20180304</td>\n",
       "    </tr>\n",
       "    <tr>\n",
       "      <th>56650</th>\n",
       "      <td>2018030416</td>\n",
       "      <td>8471695</td>\n",
       "      <td>6</td>\n",
       "      <td>3600</td>\n",
       "      <td>0</td>\n",
       "      <td>0</td>\n",
       "      <td>0</td>\n",
       "      <td>29</td>\n",
       "      <td>28</td>\n",
       "      <td>12</td>\n",
       "      <td>1</td>\n",
       "      <td>15</td>\n",
       "      <td>1</td>\n",
       "      <td>16</td>\n",
       "      <td>12</td>\n",
       "      <td>W</td>\n",
       "      <td>96.551724</td>\n",
       "      <td>100.0</td>\n",
       "      <td>93.750000</td>\n",
       "      <td>20180304</td>\n",
       "    </tr>\n",
       "    <tr>\n",
       "      <th>56651</th>\n",
       "      <td>2018030416</td>\n",
       "      <td>8476412</td>\n",
       "      <td>19</td>\n",
       "      <td>3487</td>\n",
       "      <td>0</td>\n",
       "      <td>0</td>\n",
       "      <td>0</td>\n",
       "      <td>31</td>\n",
       "      <td>27</td>\n",
       "      <td>3</td>\n",
       "      <td>1</td>\n",
       "      <td>23</td>\n",
       "      <td>1</td>\n",
       "      <td>26</td>\n",
       "      <td>4</td>\n",
       "      <td>L</td>\n",
       "      <td>87.096774</td>\n",
       "      <td>75.0</td>\n",
       "      <td>88.461538</td>\n",
       "      <td>20180304</td>\n",
       "    </tr>\n",
       "    <tr>\n",
       "      <th>56652</th>\n",
       "      <td>2018030417</td>\n",
       "      <td>8476412</td>\n",
       "      <td>19</td>\n",
       "      <td>3600</td>\n",
       "      <td>0</td>\n",
       "      <td>0</td>\n",
       "      <td>0</td>\n",
       "      <td>33</td>\n",
       "      <td>32</td>\n",
       "      <td>3</td>\n",
       "      <td>0</td>\n",
       "      <td>29</td>\n",
       "      <td>0</td>\n",
       "      <td>30</td>\n",
       "      <td>3</td>\n",
       "      <td>W</td>\n",
       "      <td>96.969697</td>\n",
       "      <td>100.0</td>\n",
       "      <td>96.666667</td>\n",
       "      <td>20180304</td>\n",
       "    </tr>\n",
       "    <tr>\n",
       "      <th>56654</th>\n",
       "      <td>2018030417</td>\n",
       "      <td>8476412</td>\n",
       "      <td>19</td>\n",
       "      <td>3600</td>\n",
       "      <td>0</td>\n",
       "      <td>0</td>\n",
       "      <td>0</td>\n",
       "      <td>33</td>\n",
       "      <td>32</td>\n",
       "      <td>3</td>\n",
       "      <td>0</td>\n",
       "      <td>29</td>\n",
       "      <td>0</td>\n",
       "      <td>30</td>\n",
       "      <td>3</td>\n",
       "      <td>W</td>\n",
       "      <td>96.969697</td>\n",
       "      <td>100.0</td>\n",
       "      <td>96.666667</td>\n",
       "      <td>20180304</td>\n",
       "    </tr>\n",
       "  </tbody>\n",
       "</table>\n",
       "<p>49284 rows × 20 columns</p>\n",
       "</div>"
      ],
      "text/plain": [
       "          game_id  player_id  team_id  timeOnIce  assists  goals  pim  shots  \\\n",
       "1      2016020045    8473461        4       2011        0      0    0     11   \n",
       "2      2016020045    8470645       16       3598        0      0    0     27   \n",
       "3      2017020812    8468011       24       3696        0      0    0     33   \n",
       "4      2017020812    8475215        7       3539        0      0    0     33   \n",
       "5      2015020314    8473575       21       3600        0      0    0     21   \n",
       "...           ...        ...      ...        ...      ...    ...  ...    ...   \n",
       "56649  2018030416    8476412       19       3487        0      0    0     31   \n",
       "56650  2018030416    8471695        6       3600        0      0    0     29   \n",
       "56651  2018030416    8476412       19       3487        0      0    0     31   \n",
       "56652  2018030417    8476412       19       3600        0      0    0     33   \n",
       "56654  2018030417    8476412       19       3600        0      0    0     33   \n",
       "\n",
       "       saves  powerPlaySaves  shortHandedSaves  evenSaves  \\\n",
       "1          9               1                 0          8   \n",
       "2         23               2                 0         21   \n",
       "3         30               1                 2         27   \n",
       "4         29               4                 1         24   \n",
       "5         20               3                 1         16   \n",
       "...      ...             ...               ...        ...   \n",
       "56649     27               3                 1         23   \n",
       "56650     28              12                 1         15   \n",
       "56651     27               3                 1         23   \n",
       "56652     32               3                 0         29   \n",
       "56654     32               3                 0         29   \n",
       "\n",
       "       shortHandedShotsAgainst  evenShotsAgainst  powerPlayShotsAgainst  \\\n",
       "1                            0                10                      1   \n",
       "2                            0                23                      4   \n",
       "3                            3                28                      2   \n",
       "4                            1                27                      5   \n",
       "5                            1                17                      3   \n",
       "...                        ...               ...                    ...   \n",
       "56649                        1                26                      4   \n",
       "56650                        1                16                     12   \n",
       "56651                        1                26                      4   \n",
       "56652                        0                30                      3   \n",
       "56654                        0                30                      3   \n",
       "\n",
       "      decision  savePercentage  powerPlaySavePercentage  \\\n",
       "1            L       81.818182                    100.0   \n",
       "2            W       85.185185                     50.0   \n",
       "3            W       90.909091                     50.0   \n",
       "4            L       87.878788                     80.0   \n",
       "5            W       95.238095                    100.0   \n",
       "...        ...             ...                      ...   \n",
       "56649        L       87.096774                     75.0   \n",
       "56650        W       96.551724                    100.0   \n",
       "56651        L       87.096774                     75.0   \n",
       "56652        W       96.969697                    100.0   \n",
       "56654        W       96.969697                    100.0   \n",
       "\n",
       "       evenStrengthSavePercentage      date  \n",
       "1                       80.000000  20160200  \n",
       "2                       91.304348  20160200  \n",
       "3                       96.428571  20170208  \n",
       "4                       88.888889  20170208  \n",
       "5                       94.117647  20150203  \n",
       "...                           ...       ...  \n",
       "56649                   88.461538  20180304  \n",
       "56650                   93.750000  20180304  \n",
       "56651                   88.461538  20180304  \n",
       "56652                   96.666667  20180304  \n",
       "56654                   96.666667  20180304  \n",
       "\n",
       "[49284 rows x 20 columns]"
      ]
     },
     "execution_count": 44,
     "metadata": {},
     "output_type": "execute_result"
    }
   ],
   "source": [
    "df_goalies['date'] = df_goalies['date'].str.slice(0, 8)\n",
    "df_goalies"
   ]
  },
  {
   "cell_type": "code",
   "execution_count": 45,
   "metadata": {
    "colab": {
     "base_uri": "https://localhost:8080/",
     "height": 503
    },
    "id": "QiBhloGQyqix",
    "outputId": "5c9c0950-ad13-4055-c6da-f328d4b4fb56"
   },
   "outputs": [
    {
     "name": "stderr",
     "output_type": "stream",
     "text": [
      "<ipython-input-45-30bb4ee47ec7>:4: SettingWithCopyWarning: \n",
      "A value is trying to be set on a copy of a slice from a DataFrame.\n",
      "Try using .loc[row_indexer,col_indexer] = value instead\n",
      "\n",
      "See the caveats in the documentation: https://pandas.pydata.org/pandas-docs/stable/user_guide/indexing.html#returning-a-view-versus-a-copy\n",
      "  df_goalies['date'] = pd.to_datetime(df_goalies['date'], format='%Y-%m-%d')\n",
      "<ipython-input-45-30bb4ee47ec7>:5: SettingWithCopyWarning: \n",
      "A value is trying to be set on a copy of a slice from a DataFrame\n",
      "\n",
      "See the caveats in the documentation: https://pandas.pydata.org/pandas-docs/stable/user_guide/indexing.html#returning-a-view-versus-a-copy\n",
      "  df_goalies.drop_duplicates(inplace=True)\n"
     ]
    },
    {
     "data": {
      "text/html": [
       "<div>\n",
       "<style scoped>\n",
       "    .dataframe tbody tr th:only-of-type {\n",
       "        vertical-align: middle;\n",
       "    }\n",
       "\n",
       "    .dataframe tbody tr th {\n",
       "        vertical-align: top;\n",
       "    }\n",
       "\n",
       "    .dataframe thead th {\n",
       "        text-align: right;\n",
       "    }\n",
       "</style>\n",
       "<table border=\"1\" class=\"dataframe\">\n",
       "  <thead>\n",
       "    <tr style=\"text-align: right;\">\n",
       "      <th></th>\n",
       "      <th>game_id</th>\n",
       "      <th>player_id</th>\n",
       "      <th>team_id</th>\n",
       "      <th>timeOnIce</th>\n",
       "      <th>assists</th>\n",
       "      <th>goals</th>\n",
       "      <th>pim</th>\n",
       "      <th>shots</th>\n",
       "      <th>saves</th>\n",
       "      <th>powerPlaySaves</th>\n",
       "      <th>shortHandedSaves</th>\n",
       "      <th>evenSaves</th>\n",
       "      <th>shortHandedShotsAgainst</th>\n",
       "      <th>evenShotsAgainst</th>\n",
       "      <th>powerPlayShotsAgainst</th>\n",
       "      <th>decision</th>\n",
       "      <th>savePercentage</th>\n",
       "      <th>powerPlaySavePercentage</th>\n",
       "      <th>evenStrengthSavePercentage</th>\n",
       "      <th>date</th>\n",
       "    </tr>\n",
       "  </thead>\n",
       "  <tbody>\n",
       "    <tr>\n",
       "      <th>3</th>\n",
       "      <td>2017020812</td>\n",
       "      <td>8468011</td>\n",
       "      <td>24</td>\n",
       "      <td>3696</td>\n",
       "      <td>0</td>\n",
       "      <td>0</td>\n",
       "      <td>0</td>\n",
       "      <td>33</td>\n",
       "      <td>30</td>\n",
       "      <td>1</td>\n",
       "      <td>2</td>\n",
       "      <td>27</td>\n",
       "      <td>3</td>\n",
       "      <td>28</td>\n",
       "      <td>2</td>\n",
       "      <td>W</td>\n",
       "      <td>90.909091</td>\n",
       "      <td>50.0</td>\n",
       "      <td>96.428571</td>\n",
       "      <td>2017-02-08</td>\n",
       "    </tr>\n",
       "    <tr>\n",
       "      <th>4</th>\n",
       "      <td>2017020812</td>\n",
       "      <td>8475215</td>\n",
       "      <td>7</td>\n",
       "      <td>3539</td>\n",
       "      <td>0</td>\n",
       "      <td>0</td>\n",
       "      <td>0</td>\n",
       "      <td>33</td>\n",
       "      <td>29</td>\n",
       "      <td>4</td>\n",
       "      <td>1</td>\n",
       "      <td>24</td>\n",
       "      <td>1</td>\n",
       "      <td>27</td>\n",
       "      <td>5</td>\n",
       "      <td>L</td>\n",
       "      <td>87.878788</td>\n",
       "      <td>80.0</td>\n",
       "      <td>88.888889</td>\n",
       "      <td>2017-02-08</td>\n",
       "    </tr>\n",
       "    <tr>\n",
       "      <th>5</th>\n",
       "      <td>2015020314</td>\n",
       "      <td>8473575</td>\n",
       "      <td>21</td>\n",
       "      <td>3600</td>\n",
       "      <td>0</td>\n",
       "      <td>0</td>\n",
       "      <td>0</td>\n",
       "      <td>21</td>\n",
       "      <td>20</td>\n",
       "      <td>3</td>\n",
       "      <td>1</td>\n",
       "      <td>16</td>\n",
       "      <td>1</td>\n",
       "      <td>17</td>\n",
       "      <td>3</td>\n",
       "      <td>W</td>\n",
       "      <td>95.238095</td>\n",
       "      <td>100.0</td>\n",
       "      <td>94.117647</td>\n",
       "      <td>2015-02-03</td>\n",
       "    </tr>\n",
       "    <tr>\n",
       "      <th>6</th>\n",
       "      <td>2015020314</td>\n",
       "      <td>8474636</td>\n",
       "      <td>52</td>\n",
       "      <td>3520</td>\n",
       "      <td>0</td>\n",
       "      <td>0</td>\n",
       "      <td>0</td>\n",
       "      <td>28</td>\n",
       "      <td>25</td>\n",
       "      <td>4</td>\n",
       "      <td>0</td>\n",
       "      <td>21</td>\n",
       "      <td>0</td>\n",
       "      <td>23</td>\n",
       "      <td>5</td>\n",
       "      <td>L</td>\n",
       "      <td>89.285714</td>\n",
       "      <td>80.0</td>\n",
       "      <td>91.304348</td>\n",
       "      <td>2015-02-03</td>\n",
       "    </tr>\n",
       "    <tr>\n",
       "      <th>7</th>\n",
       "      <td>2015020849</td>\n",
       "      <td>8471715</td>\n",
       "      <td>52</td>\n",
       "      <td>3475</td>\n",
       "      <td>0</td>\n",
       "      <td>0</td>\n",
       "      <td>0</td>\n",
       "      <td>29</td>\n",
       "      <td>27</td>\n",
       "      <td>8</td>\n",
       "      <td>1</td>\n",
       "      <td>18</td>\n",
       "      <td>1</td>\n",
       "      <td>18</td>\n",
       "      <td>10</td>\n",
       "      <td>L</td>\n",
       "      <td>93.103448</td>\n",
       "      <td>80.0</td>\n",
       "      <td>100.000000</td>\n",
       "      <td>2015-02-08</td>\n",
       "    </tr>\n",
       "  </tbody>\n",
       "</table>\n",
       "</div>"
      ],
      "text/plain": [
       "      game_id  player_id  team_id  timeOnIce  assists  goals  pim  shots  \\\n",
       "3  2017020812    8468011       24       3696        0      0    0     33   \n",
       "4  2017020812    8475215        7       3539        0      0    0     33   \n",
       "5  2015020314    8473575       21       3600        0      0    0     21   \n",
       "6  2015020314    8474636       52       3520        0      0    0     28   \n",
       "7  2015020849    8471715       52       3475        0      0    0     29   \n",
       "\n",
       "   saves  powerPlaySaves  shortHandedSaves  evenSaves  \\\n",
       "3     30               1                 2         27   \n",
       "4     29               4                 1         24   \n",
       "5     20               3                 1         16   \n",
       "6     25               4                 0         21   \n",
       "7     27               8                 1         18   \n",
       "\n",
       "   shortHandedShotsAgainst  evenShotsAgainst  powerPlayShotsAgainst decision  \\\n",
       "3                        3                28                      2        W   \n",
       "4                        1                27                      5        L   \n",
       "5                        1                17                      3        W   \n",
       "6                        0                23                      5        L   \n",
       "7                        1                18                     10        L   \n",
       "\n",
       "   savePercentage  powerPlaySavePercentage  evenStrengthSavePercentage  \\\n",
       "3       90.909091                     50.0                   96.428571   \n",
       "4       87.878788                     80.0                   88.888889   \n",
       "5       95.238095                    100.0                   94.117647   \n",
       "6       89.285714                     80.0                   91.304348   \n",
       "7       93.103448                     80.0                  100.000000   \n",
       "\n",
       "        date  \n",
       "3 2017-02-08  \n",
       "4 2017-02-08  \n",
       "5 2015-02-03  \n",
       "6 2015-02-03  \n",
       "7 2015-02-08  "
      ]
     },
     "execution_count": 45,
     "metadata": {},
     "output_type": "execute_result"
    }
   ],
   "source": [
    "## if date ends in 00, then remove, assumption is there are preseason games included in these dataframes that we want to remove\n",
    "df_goalies = df_goalies[~df_goalies['date'].str.endswith('00')]\n",
    "\n",
    "df_goalies['date'] = pd.to_datetime(df_goalies['date'], format='%Y-%m-%d')\n",
    "df_goalies.drop_duplicates(inplace=True)\n",
    "df_goalies.head()"
   ]
  },
  {
   "cell_type": "code",
   "execution_count": 46,
   "metadata": {
    "colab": {
     "base_uri": "https://localhost:8080/"
    },
    "id": "y-n7Q4pJyqix",
    "outputId": "361fc64e-5077-4016-9ce8-e39797fe070b"
   },
   "outputs": [
    {
     "data": {
      "text/plain": [
       "12      2016-02-06\n",
       "57      2017-02-04\n",
       "71      2016-02-02\n",
       "200     2016-02-07\n",
       "286     2016-02-01\n",
       "           ...    \n",
       "55666   2018-02-11\n",
       "55728   2018-02-11\n",
       "55793   2018-02-11\n",
       "55840   2018-02-11\n",
       "55900   2018-02-11\n",
       "Name: date, Length: 612, dtype: datetime64[ns]"
      ]
     },
     "execution_count": 46,
     "metadata": {},
     "output_type": "execute_result"
    }
   ],
   "source": [
    "df_goalies[df_goalies.player_id == 8471679]['date']"
   ]
  },
  {
   "cell_type": "code",
   "execution_count": 47,
   "metadata": {
    "colab": {
     "base_uri": "https://localhost:8080/"
    },
    "id": "KdsjJUtWyqix",
    "outputId": "0c7a9f2b-0b93-484d-8c64-0fcd0abf9760"
   },
   "outputs": [
    {
     "data": {
      "text/plain": [
       "12    2016-02-06\n",
       "57    2017-02-04\n",
       "71    2016-02-02\n",
       "200   2016-02-07\n",
       "286   2016-02-01\n",
       "Name: date, dtype: datetime64[ns]"
      ]
     },
     "execution_count": 47,
     "metadata": {},
     "output_type": "execute_result"
    }
   ],
   "source": [
    "price_saves = df_goalies[df_goalies.player_id == 8471679]['evenStrengthSavePercentage']\n",
    "price_saves\n",
    "\n",
    "price_dates = df_goalies[df_goalies.player_id == 8471679]['date']\n",
    "price_dates.head()\n"
   ]
  },
  {
   "cell_type": "markdown",
   "metadata": {},
   "source": [
    "### Question 1: How good of a goalie is Carey Price?"
   ]
  },
  {
   "cell_type": "code",
   "execution_count": 48,
   "metadata": {
    "colab": {
     "base_uri": "https://localhost:8080/",
     "height": 770
    },
    "id": "-Q5GDYm96JSD",
    "outputId": "4a129961-8cb1-4d92-dfc5-98904a5c5124"
   },
   "outputs": [
    {
     "data": {
      "image/png": "[encoded data removed]",
      "text/plain": [
       "<Figure size 864x864 with 2 Axes>"
      ]
     },
     "metadata": {
      "needs_background": "light"
     },
     "output_type": "display_data"
    }
   ],
   "source": [
    "# Plot the dates and amounts of saves over Carey's career\n",
    "fig = plt.figure(figsize=[12, 12])\n",
    "colors = df_goalies[df_goalies.player_id == 8471679]['saves']\n",
    "plt.scatter(price_dates, price_saves, c=colors, cmap='viridis')\n",
    "plt.ylabel('Save Percentage')\n",
    "plt.xlabel('Date')\n",
    "plt.title(\"Save percentages and numbers by game\")\n",
    "plt.colorbar()\n",
    "plt.show()"
   ]
  },
  {
   "cell_type": "markdown",
   "metadata": {},
   "source": [
    "### Save Percentages and Counts by Game\n",
    "The graph above is a multivariate analysis of Carey's career. It shows all of his games by year, with the save percentage for that game shown on the left and the counts of saves shown by the color bar. A slight trend can be seen from the colors. The more saves he makes, the better his save percentage. What this might tell us is that he performs well when he's pressured."
   ]
  },
  {
   "cell_type": "markdown",
   "metadata": {
    "id": "fwFaqR2Oyqiy"
   },
   "source": [
    "### Grab all goalies higher than the average of averages and compare against Carey Price\n",
    "Now I want to figure out just how good Carey Price is compared to everyone. We'll start by getting the average of all goalies and then comparing that save percentage to Carey Price's own."
   ]
  },
  {
   "cell_type": "code",
   "execution_count": 49,
   "metadata": {
    "colab": {
     "base_uri": "https://localhost:8080/"
    },
    "id": "xamPNMyxyqiy",
    "outputId": "51f492c2-7b8e-421b-f893-f755b9201897"
   },
   "outputs": [
    {
     "data": {
      "text/plain": [
       "player_id         0\n",
       "SavePercentage    0\n",
       "dtype: int64"
      ]
     },
     "execution_count": 49,
     "metadata": {},
     "output_type": "execute_result"
    }
   ],
   "source": [
    "df_goalie_averages.isnull().sum()"
   ]
  },
  {
   "cell_type": "code",
   "execution_count": 50,
   "metadata": {
    "colab": {
     "base_uri": "https://localhost:8080/"
    },
    "id": "XCtw1o7byqiz",
    "outputId": "a8ab3fb6-0987-4f38-d581-d6f8471365ef"
   },
   "outputs": [
    {
     "data": {
      "text/plain": [
       "90.45806649593396"
      ]
     },
     "execution_count": 50,
     "metadata": {},
     "output_type": "execute_result"
    }
   ],
   "source": [
    "df_goalie_averages['SavePercentage'].mean()"
   ]
  },
  {
   "cell_type": "code",
   "execution_count": 51,
   "metadata": {
    "id": "JM0Z0Hksyqiz"
   },
   "outputs": [],
   "source": [
    "best_goalies = df_goalie_averages[ df_goalie_averages >= df_goalie_averages['SavePercentage'].mean()]"
   ]
  },
  {
   "cell_type": "code",
   "execution_count": 52,
   "metadata": {
    "colab": {
     "base_uri": "https://localhost:8080/"
    },
    "id": "Usnv1YuRyqi0",
    "outputId": "6f27a1f0-45e5-48c7-c027-2ca2002fc4be"
   },
   "outputs": [
    {
     "name": "stdout",
     "output_type": "stream",
     "text": [
      "<class 'pandas.core.frame.DataFrame'>\n",
      "RangeIndex: 323 entries, 0 to 322\n",
      "Data columns (total 2 columns):\n",
      " #   Column          Non-Null Count  Dtype  \n",
      "---  ------          --------------  -----  \n",
      " 0   player_id       323 non-null    int64  \n",
      " 1   SavePercentage  224 non-null    float64\n",
      "dtypes: float64(1), int64(1)\n",
      "memory usage: 5.2 KB\n"
     ]
    }
   ],
   "source": [
    "best_goalies.info()"
   ]
  },
  {
   "cell_type": "code",
   "execution_count": 53,
   "metadata": {
    "colab": {
     "base_uri": "https://localhost:8080/",
     "height": 300
    },
    "id": "p67YDOolyqi0",
    "outputId": "34abef89-4c6b-4993-ac43-54b8f3808cd2"
   },
   "outputs": [
    {
     "data": {
      "text/html": [
       "<div>\n",
       "<style scoped>\n",
       "    .dataframe tbody tr th:only-of-type {\n",
       "        vertical-align: middle;\n",
       "    }\n",
       "\n",
       "    .dataframe tbody tr th {\n",
       "        vertical-align: top;\n",
       "    }\n",
       "\n",
       "    .dataframe thead th {\n",
       "        text-align: right;\n",
       "    }\n",
       "</style>\n",
       "<table border=\"1\" class=\"dataframe\">\n",
       "  <thead>\n",
       "    <tr style=\"text-align: right;\">\n",
       "      <th></th>\n",
       "      <th>player_id</th>\n",
       "      <th>SavePercentage</th>\n",
       "    </tr>\n",
       "  </thead>\n",
       "  <tbody>\n",
       "    <tr>\n",
       "      <th>count</th>\n",
       "      <td>3.230000e+02</td>\n",
       "      <td>224.000000</td>\n",
       "    </tr>\n",
       "    <tr>\n",
       "      <th>mean</th>\n",
       "      <td>8.469102e+06</td>\n",
       "      <td>91.851096</td>\n",
       "    </tr>\n",
       "    <tr>\n",
       "      <th>std</th>\n",
       "      <td>8.335506e+03</td>\n",
       "      <td>1.318333</td>\n",
       "    </tr>\n",
       "    <tr>\n",
       "      <th>min</th>\n",
       "      <td>8.445275e+06</td>\n",
       "      <td>90.494998</td>\n",
       "    </tr>\n",
       "    <tr>\n",
       "      <th>25%</th>\n",
       "      <td>8.462204e+06</td>\n",
       "      <td>91.061906</td>\n",
       "    </tr>\n",
       "    <tr>\n",
       "      <th>50%</th>\n",
       "      <td>8.470800e+06</td>\n",
       "      <td>91.620595</td>\n",
       "    </tr>\n",
       "    <tr>\n",
       "      <th>75%</th>\n",
       "      <td>8.475799e+06</td>\n",
       "      <td>92.169027</td>\n",
       "    </tr>\n",
       "    <tr>\n",
       "      <th>max</th>\n",
       "      <td>8.480925e+06</td>\n",
       "      <td>100.000000</td>\n",
       "    </tr>\n",
       "  </tbody>\n",
       "</table>\n",
       "</div>"
      ],
      "text/plain": [
       "          player_id  SavePercentage\n",
       "count  3.230000e+02      224.000000\n",
       "mean   8.469102e+06       91.851096\n",
       "std    8.335506e+03        1.318333\n",
       "min    8.445275e+06       90.494998\n",
       "25%    8.462204e+06       91.061906\n",
       "50%    8.470800e+06       91.620595\n",
       "75%    8.475799e+06       92.169027\n",
       "max    8.480925e+06      100.000000"
      ]
     },
     "execution_count": 53,
     "metadata": {},
     "output_type": "execute_result"
    }
   ],
   "source": [
    "best_goalies.describe()"
   ]
  },
  {
   "cell_type": "code",
   "execution_count": 54,
   "metadata": {
    "colab": {
     "base_uri": "https://localhost:8080/",
     "height": 112
    },
    "id": "h0rqSpxQyqi0",
    "outputId": "91d0d424-b51a-460e-d077-a4ad9e114eda"
   },
   "outputs": [
    {
     "data": {
      "text/html": [
       "<div>\n",
       "<style scoped>\n",
       "    .dataframe tbody tr th:only-of-type {\n",
       "        vertical-align: middle;\n",
       "    }\n",
       "\n",
       "    .dataframe tbody tr th {\n",
       "        vertical-align: top;\n",
       "    }\n",
       "\n",
       "    .dataframe thead th {\n",
       "        text-align: right;\n",
       "    }\n",
       "</style>\n",
       "<table border=\"1\" class=\"dataframe\">\n",
       "  <thead>\n",
       "    <tr style=\"text-align: right;\">\n",
       "      <th></th>\n",
       "      <th>player_id</th>\n",
       "      <th>SavePercentage</th>\n",
       "    </tr>\n",
       "  </thead>\n",
       "  <tbody>\n",
       "    <tr>\n",
       "      <th>221</th>\n",
       "      <td>8475130</td>\n",
       "      <td>100.0</td>\n",
       "    </tr>\n",
       "    <tr>\n",
       "      <th>254</th>\n",
       "      <td>8476330</td>\n",
       "      <td>100.0</td>\n",
       "    </tr>\n",
       "  </tbody>\n",
       "</table>\n",
       "</div>"
      ],
      "text/plain": [
       "     player_id  SavePercentage\n",
       "221    8475130           100.0\n",
       "254    8476330           100.0"
      ]
     },
     "execution_count": 54,
     "metadata": {},
     "output_type": "execute_result"
    }
   ],
   "source": [
    "# Outliers in the data. These players had a 100% save percentage. But this could be because they only played 1 game,\n",
    "# managed to get a shutout, and then never played again. They are not indicative of career long goalies.\n",
    "best_goalies.loc[best_goalies['SavePercentage']==100]"
   ]
  },
  {
   "cell_type": "code",
   "execution_count": 55,
   "metadata": {
    "colab": {
     "base_uri": "https://localhost:8080/",
     "height": 81
    },
    "id": "cEsZrGZeyqi0",
    "outputId": "b01ec972-7d39-4f47-e2ac-3a8bd858b6ca"
   },
   "outputs": [
    {
     "data": {
      "text/html": [
       "<div>\n",
       "<style scoped>\n",
       "    .dataframe tbody tr th:only-of-type {\n",
       "        vertical-align: middle;\n",
       "    }\n",
       "\n",
       "    .dataframe tbody tr th {\n",
       "        vertical-align: top;\n",
       "    }\n",
       "\n",
       "    .dataframe thead th {\n",
       "        text-align: right;\n",
       "    }\n",
       "</style>\n",
       "<table border=\"1\" class=\"dataframe\">\n",
       "  <thead>\n",
       "    <tr style=\"text-align: right;\">\n",
       "      <th></th>\n",
       "      <th>player_id</th>\n",
       "      <th>SavePercentage</th>\n",
       "    </tr>\n",
       "  </thead>\n",
       "  <tbody>\n",
       "    <tr>\n",
       "      <th>179</th>\n",
       "      <td>8471679</td>\n",
       "      <td>91.998699</td>\n",
       "    </tr>\n",
       "  </tbody>\n",
       "</table>\n",
       "</div>"
      ],
      "text/plain": [
       "     player_id  SavePercentage\n",
       "179    8471679       91.998699"
      ]
     },
     "execution_count": 55,
     "metadata": {},
     "output_type": "execute_result"
    }
   ],
   "source": [
    "best_goalies.loc[best_goalies['player_id']==8471679]"
   ]
  },
  {
   "cell_type": "markdown",
   "metadata": {},
   "source": [
    "### Question 2: How does Carey Price compare to other great goalies?"
   ]
  },
  {
   "cell_type": "markdown",
   "metadata": {},
   "source": [
    "### Visualize Carey Price against 4 of the greatest goalies to play the game in the last 15 years.\n",
    "I want to see how Andrei Vasilevskiy, Tuukka Rask, Semyon Varlamov, and Henrik Lundqvist all compare to Carey Price as goalies."
   ]
  },
  {
   "cell_type": "code",
   "execution_count": null,
   "metadata": {
    "colab": {
     "base_uri": "https://localhost:8080/",
     "height": 206
    },
    "id": "_BH0HB0WBs4_",
    "outputId": "afd247ee-375d-4398-ba58-9dd12ba699df"
   },
   "outputs": [],
   "source": [
    "# Plot 5 of the best goalies in the NHL to rank their average save percentage\n",
    "great_goalies = [8471679, 8468685, 8473575, 8471695, 8476883]\n",
    "\n",
    "top_five = pd.DataFrame()\n",
    "for goalie in great_goalies:\n",
    "  top_five = top_five.append(best_goalies.loc[best_goalies['player_id']==goalie])\n",
    "\n",
    "top_five = pd.merge(top_five, df_players, on='player_id')\n",
    "top_five['fullName'] = top_five['firstName'] + ' ' + top_five['lastName']\n",
    "top_five = top_five[['player_id', 'SavePercentage', 'fullName']]\n",
    "top_five.sort_values('SavePercentage', inplace=True)\n",
    "top_five"
   ]
  },
  {
   "cell_type": "code",
   "execution_count": null,
   "metadata": {
    "colab": {
     "base_uri": "https://localhost:8080/",
     "height": 630
    },
    "id": "uVRU0kjyDFMX",
    "outputId": "ac821d53-a080-4e9c-a0db-50db4884210c"
   },
   "outputs": [],
   "source": [
    "fig, ax = plt.subplots(figsize=(16,10), dpi= 80)\n",
    "ax.hlines(y=top_five.player_id, xmin=11, xmax=26, color='gray', alpha=0.7, linewidth=1, linestyles='dashdot')\n",
    "ax.scatter(y=top_five.fullName, x=top_five.SavePercentage, s=75, color='firebrick', alpha=0.7)\n",
    "\n",
    "# Title, Label, Ticks and Ylim\n",
    "ax.set_title('Top Five Goalies by Save Percentage', fontdict={'size':22})\n",
    "ax.set_xlabel('Save Percentage')\n",
    "ax.set_yticks(top_five.fullName)\n",
    "ax.set_yticklabels(top_five.fullName, fontdict={'horizontalalignment': 'right'})\n",
    "ax.set_xlim(91.8, 93)\n",
    "plt.show()"
   ]
  },
  {
   "cell_type": "markdown",
   "metadata": {},
   "source": [
    "### Results?\n",
    "Overall, Carey comes in 4th place against these great goalies. Nearly 92 shots out of 100 is nothing to scoff out, but for players like Henrik Lundqvist and Tuukka Rask, they are both able to make that extraordinary effort to save more. I would want to dig deeper into this, like how a team's defense plays into protecting their goalie, or limiting the options forwards can have to set up and make shots. Maybe we would find that Carey's team (Montreal Canadiens) doesn't have as good a defense over this period of time compared to Henrik's (Rangers) and Tuukka's (Bruins)."
   ]
  },
  {
   "cell_type": "markdown",
   "metadata": {},
   "source": [
    "## Section 2 (part 2): Data Understanding"
   ]
  },
  {
   "cell_type": "markdown",
   "metadata": {
    "id": "UJRzVNNKyqi1"
   },
   "source": [
    "### Alexander Ovechkin Goals\n",
    "Alexander Ovechkin is chasing after history. He wants to surpass Wayne Gretzsky's all-time goal record. And he just might do it. Let's see how many goals he has amassed in his career so far."
   ]
  },
  {
   "cell_type": "code",
   "execution_count": null,
   "metadata": {
    "colab": {
     "base_uri": "https://localhost:8080/",
     "height": 135
    },
    "id": "YXdgMXI_yqi1",
    "outputId": "1e2728f7-d443-448b-9b70-472215961936"
   },
   "outputs": [],
   "source": [
    "# Find Alexander Ovechkin\n",
    "df_players[df_players.lastName == 'Ovechkin']"
   ]
  },
  {
   "cell_type": "code",
   "execution_count": null,
   "metadata": {
    "colab": {
     "base_uri": "https://localhost:8080/"
    },
    "id": "OTroFHTAyqi1",
    "outputId": "31f5910c-8289-4294-ecb9-12824d0eb223"
   },
   "outputs": [],
   "source": [
    "# Clean the data of duplicates and sum Ovi's goal total\n",
    "df_goals = pd.read_csv('game_skater_stats.csv')\n",
    "df_goals.drop_duplicates(inplace=True)\n",
    "df_goals[df_goals.player_id == 8471214].goals.sum()"
   ]
  },
  {
   "cell_type": "markdown",
   "metadata": {},
   "source": [
    "## What's wrong with the data?\n",
    "So I've removed any duplicates, and this dataset only goes through the 2019-2020 season, but a quick check on ESPN.com says that Ovechkin had about anywhere from about 658 to 706 goals about that time if you subtract the last two seasons from his total. I need as close of an accurate goal count I can get from the data before building a neural network."
   ]
  },
  {
   "cell_type": "code",
   "execution_count": null,
   "metadata": {
    "id": "j6tlKyXbyqi1"
   },
   "outputs": [],
   "source": [
    "df_goals.info()"
   ]
  },
  {
   "cell_type": "markdown",
   "metadata": {},
   "source": [
    "## Section 3 (part 2): Data Preparation"
   ]
  },
  {
   "cell_type": "markdown",
   "metadata": {
    "id": "0cwD_qVdyqi2"
   },
   "source": [
    "### Fix dates, then create running total after each game and add additional column for neural network.\n",
    "Again, I'm using the assumption that the game_id is a combination of a date and game number and I want to do what I did with it for Carey Price so I can create a running total of his career goals after each game."
   ]
  },
  {
   "cell_type": "code",
   "execution_count": null,
   "metadata": {
    "colab": {
     "base_uri": "https://localhost:8080/"
    },
    "id": "LHDcMNbTyqi2",
    "outputId": "687bb876-8c14-412b-97c0-02506ca8b842"
   },
   "outputs": [],
   "source": [
    "df_goals['gameID'] = df_goals['game_id'].apply(str)\n",
    "df_goals.info()"
   ]
  },
  {
   "cell_type": "code",
   "execution_count": null,
   "metadata": {
    "colab": {
     "base_uri": "https://localhost:8080/"
    },
    "id": "hVaucsiMyqi2",
    "outputId": "e02d43ed-3a92-4a84-a635-265c824f268b"
   },
   "outputs": [],
   "source": [
    "df_goals = df_goals[~df_goals['gameID'].str.endswith('00')]\n",
    "df_goals.shape"
   ]
  },
  {
   "cell_type": "code",
   "execution_count": null,
   "metadata": {
    "colab": {
     "base_uri": "https://localhost:8080/"
    },
    "id": "BLtD9Xx2yqi2",
    "outputId": "23df2348-eb86-4e25-dcec-7d6b17707774"
   },
   "outputs": [],
   "source": [
    "df_goals[df_goals.player_id == 8471214].goals.sum()"
   ]
  },
  {
   "cell_type": "code",
   "execution_count": null,
   "metadata": {
    "colab": {
     "base_uri": "https://localhost:8080/",
     "height": 226
    },
    "id": "O5_K0Vixyqi2",
    "outputId": "ec7a96ff-f01a-4c82-d041-7b53651a0514"
   },
   "outputs": [],
   "source": [
    "df_goals['date'] = df_goals['gameID'].str.slice(0, 8)\n",
    "df_goals.head()"
   ]
  },
  {
   "cell_type": "code",
   "execution_count": null,
   "metadata": {
    "colab": {
     "base_uri": "https://localhost:8080/",
     "height": 226
    },
    "id": "_q0SFe08yqi3",
    "outputId": "1f56f9ae-0234-4086-c4af-f2e077efacb7"
   },
   "outputs": [],
   "source": [
    "df_goals = df_goals[~df_goals['date'].str.endswith('00')]\n",
    "df_goals.head()"
   ]
  },
  {
   "cell_type": "code",
   "execution_count": null,
   "metadata": {
    "colab": {
     "base_uri": "https://localhost:8080/"
    },
    "id": "7XeG7km7yqi3",
    "outputId": "cc925f2a-b8fe-45d3-ddfe-64945137681f",
    "scrolled": true
   },
   "outputs": [],
   "source": [
    "ovi_goals = df_goals[df_goals.player_id == 8471214]\n",
    "ovi_goals.info()"
   ]
  },
  {
   "cell_type": "code",
   "execution_count": null,
   "metadata": {
    "colab": {
     "base_uri": "https://localhost:8080/"
    },
    "id": "CVBFlD9hZcSx",
    "outputId": "d965b67f-a08d-46d1-e81c-a1717f580a71"
   },
   "outputs": [],
   "source": [
    "ovi_goals['goals'].sum()"
   ]
  },
  {
   "cell_type": "markdown",
   "metadata": {
    "id": "7v0bgfRayqi3"
   },
   "source": [
    "### Start putting together neural net training set"
   ]
  },
  {
   "cell_type": "code",
   "execution_count": null,
   "metadata": {
    "id": "sYKcUAoryqi3"
   },
   "outputs": [],
   "source": [
    "df_games = pd.read_csv('game.csv')"
   ]
  },
  {
   "cell_type": "code",
   "execution_count": null,
   "metadata": {
    "colab": {
     "base_uri": "https://localhost:8080/"
    },
    "id": "4N5LtI1myqi3",
    "outputId": "d58c5cfe-c4ca-4cf6-d216-e9fa6a7d9130"
   },
   "outputs": [],
   "source": [
    "# Merge Ovechkin data with the games data and clean to remove duplicates\n",
    "result = pd.merge(ovi_goals, df_games, on='game_id')\n",
    "result.drop_duplicates(inplace=True)\n",
    "result.info()"
   ]
  },
  {
   "cell_type": "markdown",
   "metadata": {},
   "source": [
    "### Where I discovered I was wrong...\n",
    "In the cell below, I took a glance at what the game_id looked like compared to the date_time_GMT field from the game.csv. It turns out, if you break out what would look like the date from game_id, it does not match the date_time_GMT field. So what is this game_id? Is it just a random number? It doesn't look like it to me, but it won't work for what I have in mind."
   ]
  },
  {
   "cell_type": "code",
   "execution_count": null,
   "metadata": {
    "colab": {
     "base_uri": "https://localhost:8080/",
     "height": 423
    },
    "id": "6ibVh3oJyqi4",
    "outputId": "3ee98b99-24cb-429b-df62-26b9a444056f"
   },
   "outputs": [],
   "source": [
    "result[['game_id', 'date_time_GMT']]"
   ]
  },
  {
   "cell_type": "code",
   "execution_count": null,
   "metadata": {
    "colab": {
     "base_uri": "https://localhost:8080/",
     "height": 399
    },
    "id": "mRwI93qCyqi4",
    "outputId": "a8ade175-4a24-4e07-c891-a53dc30fc3fe"
   },
   "outputs": [],
   "source": [
    "# Sort the result dataset by game dates\n",
    "result.sort_values(by=['date_time_GMT'], inplace=True)\n",
    "result.head()"
   ]
  },
  {
   "cell_type": "code",
   "execution_count": null,
   "metadata": {
    "colab": {
     "base_uri": "https://localhost:8080/",
     "height": 773
    },
    "id": "OedATy9Zyqi4",
    "outputId": "cacac27c-320d-4dcd-8209-a65270c24d26"
   },
   "outputs": [],
   "source": [
    "# Create a column over the data that adds the cumulative sum of Ovechkin's goals by each game\n",
    "result['careerGoals'] = result.goals.cumsum()\n",
    "result"
   ]
  },
  {
   "cell_type": "code",
   "execution_count": null,
   "metadata": {
    "colab": {
     "base_uri": "https://localhost:8080/"
    },
    "id": "ANc-iDQ8yqi4",
    "outputId": "a8362ba9-8be2-4b1e-9b73-35b55993aee0"
   },
   "outputs": [],
   "source": [
    "result.info()"
   ]
  },
  {
   "cell_type": "code",
   "execution_count": null,
   "metadata": {
    "colab": {
     "base_uri": "https://localhost:8080/"
    },
    "id": "DoaIIwDUyqi4",
    "outputId": "84cc2cb7-842d-4067-c598-356aede76853"
   },
   "outputs": [],
   "source": [
    "# Create a dataset with the relevant columns for a neural net, then clean up the dates, and set them as indexes\n",
    "oviData = pd.DataFrame(result, columns=['game_id', 'player_id', 'goals', 'date_time_GMT', 'careerGoals'])\n",
    "oviData['date'] = oviData['date_time_GMT'].str.slice(0, 10)\n",
    "oviData['date'] = pd.to_datetime(oviData['date'], format='%Y-%m-%d')\n",
    "oviData = oviData.set_index('date')\n",
    "oviData.shape"
   ]
  },
  {
   "cell_type": "markdown",
   "metadata": {},
   "source": [
    "## Section 4: Data Modeling"
   ]
  },
  {
   "cell_type": "markdown",
   "metadata": {},
   "source": [
    "### My training and test set\n",
    "I put together the training/test set in the cell below for my neural net. I'm using the date as my index, with a few important fields I wanted to include in case I run into something I might need later. I've included a careerGoals field at the end that provides the running total of all of Ovechkin's goals to feed my neural network so it can make predictions about how many goals he will get."
   ]
  },
  {
   "cell_type": "code",
   "execution_count": null,
   "metadata": {
    "colab": {
     "base_uri": "https://localhost:8080/",
     "height": 237
    },
    "id": "iAr99T4FaU5X",
    "outputId": "dc09ec8e-b48c-45b9-a911-23f105b6c6e3"
   },
   "outputs": [],
   "source": [
    "oviData.head()"
   ]
  },
  {
   "cell_type": "markdown",
   "metadata": {
    "id": "XJ3auu0iyqi5"
   },
   "source": [
    "### Build Neural Net to predict future goals for Alexander Ovechkin\n",
    "Here I began the process of normalizing my data, splitting it out into a test and training set, and finally training my neural network to make predictions on how many goals Alexander Ovechkin would get in his career. I used a YouTube video from the Computer Science channel about a similar neural network trained to make stock price predictions over time and repurposed it for this project. I also included some hyperparameters to help with precision and accuracy of the neural network. It was all a little over my head, but I followed along as best I could and tried different things to get the neural network to work as best I could."
   ]
  },
  {
   "cell_type": "code",
   "execution_count": null,
   "metadata": {
    "id": "KaHQ3n2Vyqi5"
   },
   "outputs": [],
   "source": [
    "import math\n",
    "from sklearn.preprocessing import MinMaxScaler\n",
    "from keras.models import Sequential\n",
    "from keras.layers import Dense, LSTM\n",
    "from keras import regularizers"
   ]
  },
  {
   "cell_type": "code",
   "execution_count": null,
   "metadata": {
    "colab": {
     "base_uri": "https://localhost:8080/",
     "height": 558
    },
    "id": "J1ciudvDyqi5",
    "outputId": "78b28d83-24a7-4c2c-8c61-c4076dce3947"
   },
   "outputs": [],
   "source": [
    "# Show the career goal progression of Alexander Ovechkin\n",
    "plt.figure(figsize=(16,8))\n",
    "plt.title('Ovechkin Career Goal Progression')\n",
    "plt.plot(oviData['careerGoals'])\n",
    "plt.xlabel('Date')\n",
    "plt.ylabel('Goals')\n",
    "plt.show()"
   ]
  },
  {
   "cell_type": "markdown",
   "metadata": {},
   "source": [
    "### Observations of Career Goal Progression\n",
    "So we can see the steady incline of Ovechkin's goal progressions over time. Every game is used and each time he adds goals to his careerGoals field, the progression goes up. But what about the flat lines? Well every hockey season has to come to an end at some point and these represent the offseason where no games are played and no goals are counted. We will want to make sure that the neural net can account for this period of time."
   ]
  },
  {
   "cell_type": "code",
   "execution_count": null,
   "metadata": {
    "colab": {
     "base_uri": "https://localhost:8080/"
    },
    "id": "Mbt9Kpax0gkj",
    "outputId": "2a18031d-e357-4f14-f84f-e0266c4874a9"
   },
   "outputs": [],
   "source": [
    "# Create a Series of of the cumulative goal counts and get the training data length\n",
    "data = oviData.filter(['careerGoals'])\n",
    "\n",
    "dataset = data.values\n",
    "\n",
    "training_data_len = math.ceil(len(dataset) * .8)\n",
    "\n",
    "training_data_len"
   ]
  },
  {
   "cell_type": "code",
   "execution_count": null,
   "metadata": {
    "colab": {
     "base_uri": "https://localhost:8080/"
    },
    "id": "QBAfgO4v3wOU",
    "outputId": "278da4e1-31c6-45a7-d707-16d67f1b7456"
   },
   "outputs": [],
   "source": [
    "# scale the goal counts using MinMaxScaler to reduce them all between 0 and 1\n",
    "# fit the data to be scaled.\n",
    "scaler = MinMaxScaler(feature_range=(0,1))\n",
    "scaled_data = scaler.fit_transform(dataset)\n",
    "\n",
    "scaled_data"
   ]
  },
  {
   "cell_type": "code",
   "execution_count": null,
   "metadata": {
    "colab": {
     "base_uri": "https://localhost:8080/"
    },
    "id": "M6Gcc4vw4Pcr",
    "outputId": "6d6302f6-e1bf-41b0-fdfd-52a8370a04c0"
   },
   "outputs": [],
   "source": [
    "#get the training data from our scaled dataset and append 60 (totals after each game) records to x_train and the 61 to y_train, \n",
    "#60 is arbitrary\n",
    "train_data = scaled_data[0:training_data_len, :]\n",
    "\n",
    "x_train = [] \n",
    "y_train = []\n",
    "\n",
    "for i in range(60, len(train_data)):\n",
    "  x_train.append(train_data[i-60:i, 0])\n",
    "  y_train.append(train_data[i, 0])\n",
    "  if i<= 60:\n",
    "    print(x_train)\n",
    "    print(y_train)\n",
    "    print()"
   ]
  },
  {
   "cell_type": "code",
   "execution_count": null,
   "metadata": {
    "id": "oa_jmb8O5Ebl"
   },
   "outputs": [],
   "source": [
    "# convert x and y train to array objects\n",
    "x_train, y_train = np.array(x_train), np.array(y_train)"
   ]
  },
  {
   "cell_type": "code",
   "execution_count": null,
   "metadata": {
    "colab": {
     "base_uri": "https://localhost:8080/"
    },
    "id": "4zrmGaWp5vmz",
    "outputId": "4a9b214a-b5db-44ff-cf28-7b07bdaa8012"
   },
   "outputs": [],
   "source": [
    "# Reshape x_train to be 3 dimensions (# of rows, # of columns, # of features)\n",
    "x_train = np.reshape(x_train, (x_train.shape[0], x_train.shape[1], 1))\n",
    "x_train.shape"
   ]
  },
  {
   "cell_type": "code",
   "execution_count": null,
   "metadata": {
    "id": "OPX9FFKy6DnK"
   },
   "outputs": [],
   "source": [
    "# Build our RNN model\n",
    "model = Sequential()\n",
    "model.add(LSTM(60, return_sequences=True, input_shape=(x_train.shape[1], 1), bias_regularizer=regularizers.l2(1e-4)))\n",
    "model.add(LSTM(60, return_sequences=False))\n",
    "model.add(Dense(30))\n",
    "model.add(Dense(1))"
   ]
  },
  {
   "cell_type": "code",
   "execution_count": null,
   "metadata": {
    "id": "ux5cX5If6tdx"
   },
   "outputs": [],
   "source": [
    "#Compile with adam (SGD) optimizer and loss function based off mean squared error (how we minimize errors in our model)\n",
    "model.compile(optimizer='adam', loss='mean_squared_error')"
   ]
  },
  {
   "cell_type": "code",
   "execution_count": null,
   "metadata": {
    "colab": {
     "base_uri": "https://localhost:8080/"
    },
    "id": "WKBB4LkU6_AQ",
    "outputId": "36b86b28-5974-4580-deab-a45fdb07256c"
   },
   "outputs": [],
   "source": [
    "# Fit the training data on our model, 1 batch of all our data, 3 cycles (epochs) for training\n",
    "model.fit(x_train, y_train, batch_size=1, epochs=3)"
   ]
  },
  {
   "cell_type": "code",
   "execution_count": null,
   "metadata": {
    "id": "TChMgwVC7X0o"
   },
   "outputs": [],
   "source": [
    "# Create our testing training set on the last 60 records\n",
    "test_data = scaled_data[training_data_len - 60: , :]\n",
    "\n",
    "x_test = []\n",
    "y_test = dataset[training_data_len:, :]\n",
    "for i in range(60, len(test_data)):\n",
    "  x_test.append(test_data[i -60:i, 0])\n"
   ]
  },
  {
   "cell_type": "code",
   "execution_count": null,
   "metadata": {
    "id": "OuPBnGt88SPs"
   },
   "outputs": [],
   "source": [
    "# Convert to an array\n",
    "x_test = np.array(x_test)"
   ]
  },
  {
   "cell_type": "code",
   "execution_count": null,
   "metadata": {
    "id": "TN-JHfQ28jqX"
   },
   "outputs": [],
   "source": [
    "# Reshape the data to be 3 dimensions\n",
    "x_test = np.reshape(x_test, (x_test.shape[0], x_test.shape[1], 1))"
   ]
  },
  {
   "cell_type": "code",
   "execution_count": null,
   "metadata": {
    "id": "gbOobmfF89DO"
   },
   "outputs": [],
   "source": [
    "# Make our predictions on the test data and invert the scaled data\n",
    "predictions = model.predict(x_test)\n",
    "predictions = scaler.inverse_transform(predictions)"
   ]
  },
  {
   "cell_type": "markdown",
   "metadata": {},
   "source": [
    "## Section 5: Evaluation"
   ]
  },
  {
   "cell_type": "markdown",
   "metadata": {},
   "source": [
    "### How did it perform?\n",
    "Using the same method from the YouTube video, we calculated how well the neural net made predictions using the Root Mean Squared Error calculation. The closer to zero it is, the better the predictions were."
   ]
  },
  {
   "cell_type": "code",
   "execution_count": null,
   "metadata": {
    "colab": {
     "base_uri": "https://localhost:8080/"
    },
    "id": "Amsgh_Lz9Yig",
    "outputId": "5d6b10b5-6870-4860-d3e4-5dd5209bb3de"
   },
   "outputs": [],
   "source": [
    "# Calculate the root mean squared error on our predictions (closer to zero is better)\n",
    "rmse = np.sqrt(np.mean(predictions - y_test)**2)\n",
    "rmse"
   ]
  },
  {
   "cell_type": "markdown",
   "metadata": {},
   "source": [
    "### Question 3: Can we predict how many goals a player like Alexander Ovechkin will score?"
   ]
  },
  {
   "cell_type": "code",
   "execution_count": null,
   "metadata": {
    "colab": {
     "base_uri": "https://localhost:8080/",
     "height": 662
    },
    "id": "KBga6pgk9yWQ",
    "outputId": "d7b7ff18-1a4e-4845-a938-7ed31a84a31e"
   },
   "outputs": [],
   "source": [
    "# Plot how our model performed versus the actual results\n",
    "train = data[:training_data_len]\n",
    "valid = data[training_data_len:]\n",
    "valid['Predictions'] = predictions\n",
    "\n",
    "plt.figure(figsize=(16, 8))\n",
    "plt.title('Model')\n",
    "plt.xlabel('Date')\n",
    "plt.ylabel('Career Goals')\n",
    "plt.plot(train['careerGoals'])\n",
    "plt.plot(valid[['careerGoals', 'Predictions']])\n",
    "plt.legend(['Train', 'Actual', 'Predictions'], loc='lower right')\n",
    "plt.show()"
   ]
  },
  {
   "cell_type": "markdown",
   "metadata": {},
   "source": [
    "### Neural Net Performance\n",
    "Hopefully, we see from the above graphic that the model's predictions run close to the actual results from our training/test dataset. I noticed that I would get varying results every time I ran this. Sometimes the RMSE would be as high as 64, and other times it would be 0.2. I tried to include differences in the layers of my model, hyperparameter tuning, and adjusting using L1 and L2 weights, but other than narrowing the gap in these differences, I still wasn't able to get a consistent result. This would require more research and possibly more data or different parameters. Many neural networks training on thousands of records. The problem here with hockey players, most don't play more than 1000 games in their career. This could also be why the model is inconsistent, lack of data."
   ]
  },
  {
   "cell_type": "code",
   "execution_count": null,
   "metadata": {
    "colab": {
     "base_uri": "https://localhost:8080/",
     "height": 455
    },
    "id": "SBiJlhv-_FJu",
    "outputId": "cdc7ab33-7d59-4de5-85b4-cb5758878163"
   },
   "outputs": [],
   "source": [
    "# Show the results\n",
    "valid"
   ]
  },
  {
   "cell_type": "markdown",
   "metadata": {},
   "source": [
    "### Just for Fun\n",
    "I wanted to see how it could predict the next game's total career goals if there was another record."
   ]
  },
  {
   "cell_type": "code",
   "execution_count": null,
   "metadata": {
    "colab": {
     "base_uri": "https://localhost:8080/"
    },
    "id": "n2rAvRSb_XI0",
    "outputId": "1dc21e5e-0a2d-4f39-875e-2ee3a141a033"
   },
   "outputs": [],
   "source": [
    "# predict the next record's goals \n",
    "goal_count = oviData\n",
    "\n",
    "new_df = goal_count.filter(['careerGoals'])\n",
    "\n",
    "last_60_values = new_df[-60:].values\n",
    "\n",
    "last_60_values_scaled = scaler.transform(last_60_values)\n",
    "\n",
    "X_test = []\n",
    "\n",
    "X_test.append(last_60_values_scaled)\n",
    "\n",
    "X_test = np.array(X_test)\n",
    "\n",
    "X_test = np.reshape(X_test, (X_test.shape[0], X_test.shape[1], 1))\n",
    "\n",
    "pred_goals = model.predict(X_test)\n",
    "\n",
    "pred_goals = scaler.inverse_transform(pred_goals)\n",
    "print(pred_goals)"
   ]
  },
  {
   "cell_type": "code",
   "execution_count": null,
   "metadata": {
    "id": "2O0SN1jJBDm1"
   },
   "outputs": [],
   "source": []
  }
 ],
 "metadata": {
  "colab": {
   "collapsed_sections": [],
   "name": "HockeyStatistics_V2.ipynb",
   "provenance": []
  },
  "kernelspec": {
   "display_name": "Python 3",
   "language": "python",
   "name": "python3"
  },
  "language_info": {
   "codemirror_mode": {
    "name": "ipython",
    "version": 3
   },
   "file_extension": ".py",
   "mimetype": "text/x-python",
   "name": "python",
   "nbconvert_exporter": "python",
   "pygments_lexer": "ipython3",
   "version": "3.8.5"
  }
 },
 "nbformat": 4,
 "nbformat_minor": 1
}
